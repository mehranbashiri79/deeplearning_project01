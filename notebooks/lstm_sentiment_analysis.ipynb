{
 "cells": [
  {
   "cell_type": "markdown",
   "id": "082cdce7-ee8a-4028-a04d-6077f6fae0c1",
   "metadata": {},
   "source": [
    "# Amazon Review Sentiment Analysis-LSTM MODEL"
   ]
  },
  {
   "cell_type": "code",
   "execution_count": 6,
   "id": "eef53c65-4349-4a68-8073-e25c95d26db6",
   "metadata": {},
   "outputs": [],
   "source": [
    "# Import Necessary Libraries\n",
    "import re\n",
    "import pickle\n",
    "import numpy as np\n",
    "import pandas as pd\n",
    "import matplotlib.pyplot as plt\n",
    "import seaborn as sns\n",
    "from tqdm import tqdm\n",
    "\n",
    "# Scikit-learn for model evaluation\n",
    "from sklearn.model_selection import train_test_split\n",
    "from sklearn.metrics import (\n",
    "    confusion_matrix, classification_report, roc_curve, auc,\n",
    "    precision_recall_curve, average_precision_score, accuracy_score,\n",
    "    precision_score, recall_score, f1_score\n",
    ")\n",
    "\n",
    "# NLTK for sentiment analysis\n",
    "from nltk.sentiment.vader import SentimentIntensityAnalyzer\n",
    "\n",
    "# TensorFlow and Keras for deep learning\n",
    "import tensorflow as tf\n",
    "from tensorflow.keras.layers import (\n",
    "    Input, Embedding, SpatialDropout1D, Bidirectional, LSTM,\n",
    "    GlobalMaxPooling1D, Dense, Dropout\n",
    ")\n",
    "from tensorflow.keras.models import Sequential, Model\n",
    "from tensorflow.keras.optimizers import RMSprop\n",
    "from tensorflow.keras.callbacks import EarlyStopping, ModelCheckpoint\n",
    "from tensorflow.keras.preprocessing.text import Tokenizer\n",
    "from tensorflow.keras.preprocessing.sequence import pad_sequences\n"
   ]
  },
  {
   "cell_type": "markdown",
   "id": "c36b81b5-5a0c-4335-b6fa-843283d4a6da",
   "metadata": {},
   "source": [
    "# Load the Dataset into a DataFrame"
   ]
  },
  {
   "cell_type": "code",
   "execution_count": 5,
   "id": "ae3abcac-8b4e-4ab6-a5bc-2bf0cd193697",
   "metadata": {},
   "outputs": [],
   "source": [
    "#Load data\n",
    "# Set random seed for reproducibility\n",
    "np.random.seed(42)\n",
    "\n",
    "# Load Data\n",
    "def get_labels_and_texts(file, num_samples=None):\n",
    "    labels = []\n",
    "    texts = []\n",
    "    with open(file, \"r\", encoding='utf-8') as f:  # Open in text mode with utf-8 encoding\n",
    "        for i, line in enumerate(f):\n",
    "            if num_samples is not None and i >= num_samples:\n",
    "                break\n",
    "            x = line.split(\" \", 1)  # Split line into label and text\n",
    "            labels.append(int(x[0].split(\"__label__\")[1]) - 1)\n",
    "            texts.append(x[1].strip())\n",
    "    return np.array(labels), texts\n",
    "\n",
    "train_labels, train_texts = get_labels_and_texts(\"Dataset/train.ft.txt\", num_samples=3600000)\n",
    "test_labels, test_texts = get_labels_and_texts(\"Dataset/test.ft.txt\", num_samples=400000)\n",
    "\n",
    "# Create pandas DataFrame\n",
    "train_df = pd.DataFrame({'text': train_texts, 'label': train_labels})\n",
    "test_df = pd.DataFrame({'text': test_texts, 'label': test_labels})\n"
   ]
  },
  {
   "cell_type": "markdown",
   "id": "db2027c9-94cb-43fc-ac93-805fe778997c",
   "metadata": {},
   "source": [
    "# Clean and Preprocess the Data"
   ]
  },
  {
   "cell_type": "code",
   "execution_count": 3,
   "id": "ad5d6776-805b-4136-8e33-d25126c54046",
   "metadata": {},
   "outputs": [],
   "source": [
    "#Cleaning\n",
    "NON_ALPHANUM = re.compile(r'[\\W]')\n",
    "NON_ASCII = re.compile(r'[^a-z0-1\\s]')\n",
    "def normalize_texts(texts):\n",
    "    normalized_texts = []\n",
    "    for text in texts:\n",
    "        lower = text.lower()\n",
    "        no_punctuation = NON_ALPHANUM.sub(r' ', lower)\n",
    "        no_non_ascii = NON_ASCII.sub(r'', no_punctuation)\n",
    "        normalized_texts.append(no_non_ascii)\n",
    "    return normalized_texts    \n",
    "train_texts = normalize_texts(train_texts)\n",
    "test_texts = normalize_texts(test_texts)"
   ]
  },
  {
   "cell_type": "code",
   "execution_count": 4,
   "id": "040f3f1e-fa82-4f41-afad-154debc548ad",
   "metadata": {},
   "outputs": [],
   "source": [
    "# Tokenize texts\n",
    "MAX_FEATURES = 12000\n",
    "tokenizer = Tokenizer(num_words=MAX_FEATURES)\n",
    "tokenizer.fit_on_texts(train_texts)\n",
    "train_texts = tokenizer.texts_to_sequences(train_texts)\n",
    "test_texts = tokenizer.texts_to_sequences(test_texts)"
   ]
  },
  {
   "cell_type": "code",
   "execution_count": 5,
   "id": "91c19db1-f1ea-40b3-b7f2-92e8a2ec8eec",
   "metadata": {},
   "outputs": [],
   "source": [
    "# Padding\n",
    "MAX_LENGTH = max(len(train_ex) for train_ex in train_texts)\n",
    "train_texts = pad_sequences(train_texts, maxlen=MAX_LENGTH, padding='post')\n",
    "test_texts = pad_sequences(test_texts, maxlen=MAX_LENGTH, padding='post')"
   ]
  },
  {
   "cell_type": "markdown",
   "id": "c5d69a76-dcbd-4104-ae26-3a87b4fd1b98",
   "metadata": {},
   "source": [
    "# Define the model architecture "
   ]
  },
  {
   "cell_type": "code",
   "execution_count": 6,
   "id": "65bebc84-8f45-4c01-8d36-8eeeb0a33bf2",
   "metadata": {},
   "outputs": [
    {
     "name": "stdout",
     "output_type": "stream",
     "text": [
      "Model: \"custom_model\"\n",
      "_________________________________________________________________\n",
      " Layer (type)                Output Shape              Param #   \n",
      "=================================================================\n",
      " input_layer (InputLayer)    [(None, 255)]             0         \n",
      "                                                                 \n",
      " embedding_layer (Embedding)  (None, 255, 128)         1536000   \n",
      "                                                                 \n",
      " spatial_dropout (SpatialDro  (None, 255, 128)         0         \n",
      " pout1D)                                                         \n",
      "                                                                 \n",
      " bidirectional_lstm (Bidirec  (None, 255, 256)         263168    \n",
      " tional)                                                         \n",
      "                                                                 \n",
      " global_max_pooling (GlobalM  (None, 256)              0         \n",
      " axPooling1D)                                                    \n",
      "                                                                 \n",
      " dense (Dense)               (None, 128)               32896     \n",
      "                                                                 \n",
      " dropout (Dropout)           (None, 128)               0         \n",
      "                                                                 \n",
      " output_layer (Dense)        (None, 1)                 129       \n",
      "                                                                 \n",
      "=================================================================\n",
      "Total params: 1,832,193\n",
      "Trainable params: 1,832,193\n",
      "Non-trainable params: 0\n",
      "_________________________________________________________________\n",
      "None\n"
     ]
    }
   ],
   "source": [
    "# LSTM Model definition\n",
    "max_seq_length = MAX_LENGTH\n",
    "vocab_size = 12000\n",
    "embedding_dim = 128\n",
    "lstm_units = 128\n",
    "dropout_rate = 0.1  \n",
    "inputs = Input(shape=(max_seq_length,), name='input_layer')\n",
    "embedding = Embedding(input_dim=vocab_size, output_dim=embedding_dim, input_length=max_seq_length, name='embedding_layer')(inputs)\n",
    "spatial_dropout = SpatialDropout1D(dropout_rate, name='spatial_dropout')(embedding)\n",
    "lstm = Bidirectional(LSTM(lstm_units, return_sequences=True), name='bidirectional_lstm')(spatial_dropout)\n",
    "pooling = GlobalMaxPooling1D(name='global_max_pooling')(lstm)\n",
    "dense = Dense(128, activation='relu', name='dense')(pooling)\n",
    "dropout = Dropout(dropout_rate, name='dropout')(dense)\n",
    "outputs = Dense(1, activation='sigmoid', name='output_layer')(dropout)\n",
    "model = Model(inputs=inputs, outputs=outputs, name='custom_model')\n",
    "optimizer = RMSprop()\n",
    "model.compile(optimizer=optimizer, loss='binary_crossentropy', metrics=['accuracy'])\n",
    "early_stopping = EarlyStopping(monitor='val_loss', patience=3, restore_best_weights=True)\n",
    "print(model.summary())"
   ]
  },
  {
   "cell_type": "markdown",
   "id": "cf077dc4-271b-4c94-9849-d3bb08c7c0b7",
   "metadata": {},
   "source": [
    "# Train the Model"
   ]
  },
  {
   "cell_type": "code",
   "execution_count": 30,
   "id": "8ac0a219-c848-4b34-a685-26085cba9684",
   "metadata": {},
   "outputs": [],
   "source": [
    "# Split data into train and validation sets\n",
    "X_train, X_val, y_train, y_val = train_test_split(train_texts, train_labels, test_size=0.2, random_state=42)"
   ]
  },
  {
   "cell_type": "code",
   "execution_count": 32,
   "id": "ad2e75a4-3fa1-4b61-b597-e62c7531642b",
   "metadata": {},
   "outputs": [
    {
     "name": "stdout",
     "output_type": "stream",
     "text": [
      "Epoch 1/60\n",
      "22500/22500 [==============================] - ETA: 0s - loss: 0.2607 - accuracy: 0.8915 - precision_1: 0.8979 - recall_1: 0.8834"
     ]
    },
    {
     "name": "stderr",
     "output_type": "stream",
     "text": [
      "WARNING:absl:Found untraced functions such as lstm_cell_25_layer_call_fn, lstm_cell_25_layer_call_and_return_conditional_losses, lstm_cell_26_layer_call_fn, lstm_cell_26_layer_call_and_return_conditional_losses while saving (showing 4 of 4). These functions will not be directly callable after loading.\n"
     ]
    },
    {
     "name": "stdout",
     "output_type": "stream",
     "text": [
      "INFO:tensorflow:Assets written to: Model5-3mdata_fbest_model\\assets\n"
     ]
    },
    {
     "name": "stderr",
     "output_type": "stream",
     "text": [
      "INFO:tensorflow:Assets written to: Model5-3mdata_fbest_model\\assets\n"
     ]
    },
    {
     "name": "stdout",
     "output_type": "stream",
     "text": [
      "22500/22500 [==============================] - 1323s 59ms/step - loss: 0.2607 - accuracy: 0.8915 - precision_1: 0.8979 - recall_1: 0.8834 - val_loss: 0.1965 - val_accuracy: 0.9227 - val_precision_1: 0.9295 - val_recall_1: 0.9149\n",
      "Epoch 2/60\n",
      "22500/22500 [==============================] - ETA: 0s - loss: 0.1899 - accuracy: 0.9261 - precision_1: 0.9282 - recall_1: 0.9236"
     ]
    },
    {
     "name": "stderr",
     "output_type": "stream",
     "text": [
      "WARNING:absl:Found untraced functions such as lstm_cell_25_layer_call_fn, lstm_cell_25_layer_call_and_return_conditional_losses, lstm_cell_26_layer_call_fn, lstm_cell_26_layer_call_and_return_conditional_losses while saving (showing 4 of 4). These functions will not be directly callable after loading.\n"
     ]
    },
    {
     "name": "stdout",
     "output_type": "stream",
     "text": [
      "INFO:tensorflow:Assets written to: Model5-3mdata_fbest_model\\assets\n"
     ]
    },
    {
     "name": "stderr",
     "output_type": "stream",
     "text": [
      "INFO:tensorflow:Assets written to: Model5-3mdata_fbest_model\\assets\n"
     ]
    },
    {
     "name": "stdout",
     "output_type": "stream",
     "text": [
      "22500/22500 [==============================] - 1322s 59ms/step - loss: 0.1899 - accuracy: 0.9261 - precision_1: 0.9282 - recall_1: 0.9236 - val_loss: 0.1813 - val_accuracy: 0.9296 - val_precision_1: 0.9489 - val_recall_1: 0.9082\n",
      "Epoch 3/60\n",
      "22500/22500 [==============================] - ETA: 0s - loss: 0.1745 - accuracy: 0.9331 - precision_1: 0.9349 - recall_1: 0.9310"
     ]
    },
    {
     "name": "stderr",
     "output_type": "stream",
     "text": [
      "WARNING:absl:Found untraced functions such as lstm_cell_25_layer_call_fn, lstm_cell_25_layer_call_and_return_conditional_losses, lstm_cell_26_layer_call_fn, lstm_cell_26_layer_call_and_return_conditional_losses while saving (showing 4 of 4). These functions will not be directly callable after loading.\n"
     ]
    },
    {
     "name": "stdout",
     "output_type": "stream",
     "text": [
      "INFO:tensorflow:Assets written to: Model5-3mdata_fbest_model\\assets\n"
     ]
    },
    {
     "name": "stderr",
     "output_type": "stream",
     "text": [
      "INFO:tensorflow:Assets written to: Model5-3mdata_fbest_model\\assets\n"
     ]
    },
    {
     "name": "stdout",
     "output_type": "stream",
     "text": [
      "22500/22500 [==============================] - 1340s 60ms/step - loss: 0.1745 - accuracy: 0.9331 - precision_1: 0.9349 - recall_1: 0.9310 - val_loss: 0.1683 - val_accuracy: 0.9359 - val_precision_1: 0.9318 - val_recall_1: 0.9407\n",
      "Epoch 4/60\n",
      "22500/22500 [==============================] - ETA: 0s - loss: 0.1655 - accuracy: 0.9370 - precision_1: 0.9386 - recall_1: 0.9352"
     ]
    },
    {
     "name": "stderr",
     "output_type": "stream",
     "text": [
      "WARNING:absl:Found untraced functions such as lstm_cell_25_layer_call_fn, lstm_cell_25_layer_call_and_return_conditional_losses, lstm_cell_26_layer_call_fn, lstm_cell_26_layer_call_and_return_conditional_losses while saving (showing 4 of 4). These functions will not be directly callable after loading.\n"
     ]
    },
    {
     "name": "stdout",
     "output_type": "stream",
     "text": [
      "INFO:tensorflow:Assets written to: Model5-3mdata_fbest_model\\assets\n"
     ]
    },
    {
     "name": "stderr",
     "output_type": "stream",
     "text": [
      "INFO:tensorflow:Assets written to: Model5-3mdata_fbest_model\\assets\n"
     ]
    },
    {
     "name": "stdout",
     "output_type": "stream",
     "text": [
      "22500/22500 [==============================] - 1326s 59ms/step - loss: 0.1655 - accuracy: 0.9370 - precision_1: 0.9386 - recall_1: 0.9352 - val_loss: 0.1600 - val_accuracy: 0.9390 - val_precision_1: 0.9491 - val_recall_1: 0.9279\n",
      "Epoch 5/60\n",
      "22500/22500 [==============================] - ETA: 0s - loss: 0.1593 - accuracy: 0.9397 - precision_1: 0.9410 - recall_1: 0.9382"
     ]
    },
    {
     "name": "stderr",
     "output_type": "stream",
     "text": [
      "WARNING:absl:Found untraced functions such as lstm_cell_25_layer_call_fn, lstm_cell_25_layer_call_and_return_conditional_losses, lstm_cell_26_layer_call_fn, lstm_cell_26_layer_call_and_return_conditional_losses while saving (showing 4 of 4). These functions will not be directly callable after loading.\n"
     ]
    },
    {
     "name": "stdout",
     "output_type": "stream",
     "text": [
      "INFO:tensorflow:Assets written to: Model5-3mdata_fbest_model\\assets\n"
     ]
    },
    {
     "name": "stderr",
     "output_type": "stream",
     "text": [
      "INFO:tensorflow:Assets written to: Model5-3mdata_fbest_model\\assets\n"
     ]
    },
    {
     "name": "stdout",
     "output_type": "stream",
     "text": [
      "22500/22500 [==============================] - 1329s 59ms/step - loss: 0.1593 - accuracy: 0.9397 - precision_1: 0.9410 - recall_1: 0.9382 - val_loss: 0.1543 - val_accuracy: 0.9415 - val_precision_1: 0.9410 - val_recall_1: 0.9423\n",
      "Epoch 6/60\n",
      "22500/22500 [==============================] - ETA: 0s - loss: 0.1545 - accuracy: 0.9418 - precision_1: 0.9429 - recall_1: 0.9404"
     ]
    },
    {
     "name": "stderr",
     "output_type": "stream",
     "text": [
      "WARNING:absl:Found untraced functions such as lstm_cell_25_layer_call_fn, lstm_cell_25_layer_call_and_return_conditional_losses, lstm_cell_26_layer_call_fn, lstm_cell_26_layer_call_and_return_conditional_losses while saving (showing 4 of 4). These functions will not be directly callable after loading.\n"
     ]
    },
    {
     "name": "stdout",
     "output_type": "stream",
     "text": [
      "INFO:tensorflow:Assets written to: Model5-3mdata_fbest_model\\assets\n"
     ]
    },
    {
     "name": "stderr",
     "output_type": "stream",
     "text": [
      "INFO:tensorflow:Assets written to: Model5-3mdata_fbest_model\\assets\n"
     ]
    },
    {
     "name": "stdout",
     "output_type": "stream",
     "text": [
      "22500/22500 [==============================] - 1320s 59ms/step - loss: 0.1545 - accuracy: 0.9418 - precision_1: 0.9429 - recall_1: 0.9404 - val_loss: 0.1537 - val_accuracy: 0.9420 - val_precision_1: 0.9554 - val_recall_1: 0.9274\n",
      "Epoch 7/60\n",
      "22499/22500 [============================>.] - ETA: 0s - loss: 0.1507 - accuracy: 0.9435 - precision_1: 0.9447 - recall_1: 0.9422"
     ]
    },
    {
     "name": "stderr",
     "output_type": "stream",
     "text": [
      "WARNING:absl:Found untraced functions such as lstm_cell_25_layer_call_fn, lstm_cell_25_layer_call_and_return_conditional_losses, lstm_cell_26_layer_call_fn, lstm_cell_26_layer_call_and_return_conditional_losses while saving (showing 4 of 4). These functions will not be directly callable after loading.\n"
     ]
    },
    {
     "name": "stdout",
     "output_type": "stream",
     "text": [
      "INFO:tensorflow:Assets written to: Model5-3mdata_fbest_model\\assets\n"
     ]
    },
    {
     "name": "stderr",
     "output_type": "stream",
     "text": [
      "INFO:tensorflow:Assets written to: Model5-3mdata_fbest_model\\assets\n"
     ]
    },
    {
     "name": "stdout",
     "output_type": "stream",
     "text": [
      "22500/22500 [==============================] - 1327s 59ms/step - loss: 0.1507 - accuracy: 0.9435 - precision_1: 0.9447 - recall_1: 0.9422 - val_loss: 0.1504 - val_accuracy: 0.9433 - val_precision_1: 0.9564 - val_recall_1: 0.9290\n",
      "Epoch 8/60\n",
      "22500/22500 [==============================] - ETA: 0s - loss: 0.1473 - accuracy: 0.9450 - precision_1: 0.9461 - recall_1: 0.9438"
     ]
    },
    {
     "name": "stderr",
     "output_type": "stream",
     "text": [
      "WARNING:absl:Found untraced functions such as lstm_cell_25_layer_call_fn, lstm_cell_25_layer_call_and_return_conditional_losses, lstm_cell_26_layer_call_fn, lstm_cell_26_layer_call_and_return_conditional_losses while saving (showing 4 of 4). These functions will not be directly callable after loading.\n"
     ]
    },
    {
     "name": "stdout",
     "output_type": "stream",
     "text": [
      "INFO:tensorflow:Assets written to: Model5-3mdata_fbest_model\\assets\n"
     ]
    },
    {
     "name": "stderr",
     "output_type": "stream",
     "text": [
      "INFO:tensorflow:Assets written to: Model5-3mdata_fbest_model\\assets\n"
     ]
    },
    {
     "name": "stdout",
     "output_type": "stream",
     "text": [
      "22500/22500 [==============================] - 1332s 59ms/step - loss: 0.1473 - accuracy: 0.9450 - precision_1: 0.9461 - recall_1: 0.9438 - val_loss: 0.1447 - val_accuracy: 0.9457 - val_precision_1: 0.9502 - val_recall_1: 0.9408\n",
      "Epoch 9/60\n",
      "22499/22500 [============================>.] - ETA: 0s - loss: 0.1444 - accuracy: 0.9463 - precision_1: 0.9473 - recall_1: 0.9452"
     ]
    },
    {
     "name": "stderr",
     "output_type": "stream",
     "text": [
      "WARNING:absl:Found untraced functions such as lstm_cell_25_layer_call_fn, lstm_cell_25_layer_call_and_return_conditional_losses, lstm_cell_26_layer_call_fn, lstm_cell_26_layer_call_and_return_conditional_losses while saving (showing 4 of 4). These functions will not be directly callable after loading.\n"
     ]
    },
    {
     "name": "stdout",
     "output_type": "stream",
     "text": [
      "INFO:tensorflow:Assets written to: Model5-3mdata_fbest_model\\assets\n"
     ]
    },
    {
     "name": "stderr",
     "output_type": "stream",
     "text": [
      "INFO:tensorflow:Assets written to: Model5-3mdata_fbest_model\\assets\n"
     ]
    },
    {
     "name": "stdout",
     "output_type": "stream",
     "text": [
      "22500/22500 [==============================] - 1328s 59ms/step - loss: 0.1444 - accuracy: 0.9463 - precision_1: 0.9473 - recall_1: 0.9452 - val_loss: 0.1428 - val_accuracy: 0.9465 - val_precision_1: 0.9512 - val_recall_1: 0.9414\n",
      "Epoch 10/60\n",
      "22500/22500 [==============================] - ETA: 0s - loss: 0.1420 - accuracy: 0.9473 - precision_1: 0.9483 - recall_1: 0.9462"
     ]
    },
    {
     "name": "stderr",
     "output_type": "stream",
     "text": [
      "WARNING:absl:Found untraced functions such as lstm_cell_25_layer_call_fn, lstm_cell_25_layer_call_and_return_conditional_losses, lstm_cell_26_layer_call_fn, lstm_cell_26_layer_call_and_return_conditional_losses while saving (showing 4 of 4). These functions will not be directly callable after loading.\n"
     ]
    },
    {
     "name": "stdout",
     "output_type": "stream",
     "text": [
      "INFO:tensorflow:Assets written to: Model5-3mdata_fbest_model\\assets\n"
     ]
    },
    {
     "name": "stderr",
     "output_type": "stream",
     "text": [
      "INFO:tensorflow:Assets written to: Model5-3mdata_fbest_model\\assets\n"
     ]
    },
    {
     "name": "stdout",
     "output_type": "stream",
     "text": [
      "22500/22500 [==============================] - 1323s 59ms/step - loss: 0.1420 - accuracy: 0.9473 - precision_1: 0.9483 - recall_1: 0.9462 - val_loss: 0.1405 - val_accuracy: 0.9477 - val_precision_1: 0.9494 - val_recall_1: 0.9458\n",
      "Epoch 11/60\n",
      "22500/22500 [==============================] - 1311s 58ms/step - loss: 0.1398 - accuracy: 0.9482 - precision_1: 0.9491 - recall_1: 0.9472 - val_loss: 0.1461 - val_accuracy: 0.9451 - val_precision_1: 0.9304 - val_recall_1: 0.9623\n",
      "Epoch 12/60\n",
      "22500/22500 [==============================] - ETA: 0s - loss: 0.1380 - accuracy: 0.9490 - precision_1: 0.9499 - recall_1: 0.9480"
     ]
    },
    {
     "name": "stderr",
     "output_type": "stream",
     "text": [
      "WARNING:absl:Found untraced functions such as lstm_cell_25_layer_call_fn, lstm_cell_25_layer_call_and_return_conditional_losses, lstm_cell_26_layer_call_fn, lstm_cell_26_layer_call_and_return_conditional_losses while saving (showing 4 of 4). These functions will not be directly callable after loading.\n"
     ]
    },
    {
     "name": "stdout",
     "output_type": "stream",
     "text": [
      "INFO:tensorflow:Assets written to: Model5-3mdata_fbest_model\\assets\n"
     ]
    },
    {
     "name": "stderr",
     "output_type": "stream",
     "text": [
      "INFO:tensorflow:Assets written to: Model5-3mdata_fbest_model\\assets\n"
     ]
    },
    {
     "name": "stdout",
     "output_type": "stream",
     "text": [
      "22500/22500 [==============================] - 1330s 59ms/step - loss: 0.1380 - accuracy: 0.9490 - precision_1: 0.9499 - recall_1: 0.9480 - val_loss: 0.1393 - val_accuracy: 0.9480 - val_precision_1: 0.9421 - val_recall_1: 0.9547\n",
      "Epoch 13/60\n",
      "22500/22500 [==============================] - ETA: 0s - loss: 0.1364 - accuracy: 0.9497 - precision_1: 0.9505 - recall_1: 0.9487"
     ]
    },
    {
     "name": "stderr",
     "output_type": "stream",
     "text": [
      "WARNING:absl:Found untraced functions such as lstm_cell_25_layer_call_fn, lstm_cell_25_layer_call_and_return_conditional_losses, lstm_cell_26_layer_call_fn, lstm_cell_26_layer_call_and_return_conditional_losses while saving (showing 4 of 4). These functions will not be directly callable after loading.\n"
     ]
    },
    {
     "name": "stdout",
     "output_type": "stream",
     "text": [
      "INFO:tensorflow:Assets written to: Model5-3mdata_fbest_model\\assets\n"
     ]
    },
    {
     "name": "stderr",
     "output_type": "stream",
     "text": [
      "INFO:tensorflow:Assets written to: Model5-3mdata_fbest_model\\assets\n"
     ]
    },
    {
     "name": "stdout",
     "output_type": "stream",
     "text": [
      "22500/22500 [==============================] - 1338s 59ms/step - loss: 0.1364 - accuracy: 0.9497 - precision_1: 0.9505 - recall_1: 0.9487 - val_loss: 0.1378 - val_accuracy: 0.9487 - val_precision_1: 0.9572 - val_recall_1: 0.9395\n",
      "Epoch 14/60\n",
      "22500/22500 [==============================] - ETA: 0s - loss: 0.1349 - accuracy: 0.9503 - precision_1: 0.9512 - recall_1: 0.9494"
     ]
    },
    {
     "name": "stderr",
     "output_type": "stream",
     "text": [
      "WARNING:absl:Found untraced functions such as lstm_cell_25_layer_call_fn, lstm_cell_25_layer_call_and_return_conditional_losses, lstm_cell_26_layer_call_fn, lstm_cell_26_layer_call_and_return_conditional_losses while saving (showing 4 of 4). These functions will not be directly callable after loading.\n"
     ]
    },
    {
     "name": "stdout",
     "output_type": "stream",
     "text": [
      "INFO:tensorflow:Assets written to: Model5-3mdata_fbest_model\\assets\n"
     ]
    },
    {
     "name": "stderr",
     "output_type": "stream",
     "text": [
      "INFO:tensorflow:Assets written to: Model5-3mdata_fbest_model\\assets\n"
     ]
    },
    {
     "name": "stdout",
     "output_type": "stream",
     "text": [
      "22500/22500 [==============================] - 1336s 59ms/step - loss: 0.1349 - accuracy: 0.9503 - precision_1: 0.9512 - recall_1: 0.9494 - val_loss: 0.1355 - val_accuracy: 0.9498 - val_precision_1: 0.9558 - val_recall_1: 0.9433\n",
      "Epoch 15/60\n",
      "22500/22500 [==============================] - ETA: 0s - loss: 0.1334 - accuracy: 0.9509 - precision_1: 0.9517 - recall_1: 0.9500"
     ]
    },
    {
     "name": "stderr",
     "output_type": "stream",
     "text": [
      "WARNING:absl:Found untraced functions such as lstm_cell_25_layer_call_fn, lstm_cell_25_layer_call_and_return_conditional_losses, lstm_cell_26_layer_call_fn, lstm_cell_26_layer_call_and_return_conditional_losses while saving (showing 4 of 4). These functions will not be directly callable after loading.\n"
     ]
    },
    {
     "name": "stdout",
     "output_type": "stream",
     "text": [
      "INFO:tensorflow:Assets written to: Model5-3mdata_fbest_model\\assets\n"
     ]
    },
    {
     "name": "stderr",
     "output_type": "stream",
     "text": [
      "INFO:tensorflow:Assets written to: Model5-3mdata_fbest_model\\assets\n"
     ]
    },
    {
     "name": "stdout",
     "output_type": "stream",
     "text": [
      "22500/22500 [==============================] - 1349s 60ms/step - loss: 0.1334 - accuracy: 0.9509 - precision_1: 0.9517 - recall_1: 0.9500 - val_loss: 0.1353 - val_accuracy: 0.9499 - val_precision_1: 0.9575 - val_recall_1: 0.9417\n",
      "Epoch 16/60\n",
      "22500/22500 [==============================] - 1337s 59ms/step - loss: 0.1323 - accuracy: 0.9515 - precision_1: 0.9521 - recall_1: 0.9508 - val_loss: 0.1353 - val_accuracy: 0.9500 - val_precision_1: 0.9446 - val_recall_1: 0.9562\n",
      "Epoch 17/60\n",
      "22500/22500 [==============================] - ETA: 0s - loss: 0.1311 - accuracy: 0.9520 - precision_1: 0.9527 - recall_1: 0.9512"
     ]
    },
    {
     "name": "stderr",
     "output_type": "stream",
     "text": [
      "WARNING:absl:Found untraced functions such as lstm_cell_25_layer_call_fn, lstm_cell_25_layer_call_and_return_conditional_losses, lstm_cell_26_layer_call_fn, lstm_cell_26_layer_call_and_return_conditional_losses while saving (showing 4 of 4). These functions will not be directly callable after loading.\n"
     ]
    },
    {
     "name": "stdout",
     "output_type": "stream",
     "text": [
      "INFO:tensorflow:Assets written to: Model5-3mdata_fbest_model\\assets\n"
     ]
    },
    {
     "name": "stderr",
     "output_type": "stream",
     "text": [
      "INFO:tensorflow:Assets written to: Model5-3mdata_fbest_model\\assets\n"
     ]
    },
    {
     "name": "stdout",
     "output_type": "stream",
     "text": [
      "22500/22500 [==============================] - 1352s 60ms/step - loss: 0.1311 - accuracy: 0.9520 - precision_1: 0.9527 - recall_1: 0.9512 - val_loss: 0.1335 - val_accuracy: 0.9507 - val_precision_1: 0.9561 - val_recall_1: 0.9450\n",
      "Epoch 18/60\n",
      "22500/22500 [==============================] - ETA: 0s - loss: 0.1301 - accuracy: 0.9525 - precision_1: 0.9532 - recall_1: 0.9518"
     ]
    },
    {
     "name": "stderr",
     "output_type": "stream",
     "text": [
      "WARNING:absl:Found untraced functions such as lstm_cell_25_layer_call_fn, lstm_cell_25_layer_call_and_return_conditional_losses, lstm_cell_26_layer_call_fn, lstm_cell_26_layer_call_and_return_conditional_losses while saving (showing 4 of 4). These functions will not be directly callable after loading.\n"
     ]
    },
    {
     "name": "stdout",
     "output_type": "stream",
     "text": [
      "INFO:tensorflow:Assets written to: Model5-3mdata_fbest_model\\assets\n"
     ]
    },
    {
     "name": "stderr",
     "output_type": "stream",
     "text": [
      "INFO:tensorflow:Assets written to: Model5-3mdata_fbest_model\\assets\n"
     ]
    },
    {
     "name": "stdout",
     "output_type": "stream",
     "text": [
      "22500/22500 [==============================] - 1351s 60ms/step - loss: 0.1301 - accuracy: 0.9525 - precision_1: 0.9532 - recall_1: 0.9518 - val_loss: 0.1327 - val_accuracy: 0.9510 - val_precision_1: 0.9464 - val_recall_1: 0.9562\n",
      "Epoch 19/60\n",
      "22500/22500 [==============================] - ETA: 0s - loss: 0.1291 - accuracy: 0.9529 - precision_1: 0.9534 - recall_1: 0.9522"
     ]
    },
    {
     "name": "stderr",
     "output_type": "stream",
     "text": [
      "WARNING:absl:Found untraced functions such as lstm_cell_25_layer_call_fn, lstm_cell_25_layer_call_and_return_conditional_losses, lstm_cell_26_layer_call_fn, lstm_cell_26_layer_call_and_return_conditional_losses while saving (showing 4 of 4). These functions will not be directly callable after loading.\n"
     ]
    },
    {
     "name": "stdout",
     "output_type": "stream",
     "text": [
      "INFO:tensorflow:Assets written to: Model5-3mdata_fbest_model\\assets\n"
     ]
    },
    {
     "name": "stderr",
     "output_type": "stream",
     "text": [
      "INFO:tensorflow:Assets written to: Model5-3mdata_fbest_model\\assets\n"
     ]
    },
    {
     "name": "stdout",
     "output_type": "stream",
     "text": [
      "22500/22500 [==============================] - 1359s 60ms/step - loss: 0.1291 - accuracy: 0.9529 - precision_1: 0.9534 - recall_1: 0.9522 - val_loss: 0.1322 - val_accuracy: 0.9511 - val_precision_1: 0.9586 - val_recall_1: 0.9429\n",
      "Epoch 20/60\n",
      "22500/22500 [==============================] - 1347s 60ms/step - loss: 0.1281 - accuracy: 0.9534 - precision_1: 0.9540 - recall_1: 0.9526 - val_loss: 0.1331 - val_accuracy: 0.9509 - val_precision_1: 0.9616 - val_recall_1: 0.9393\n",
      "Epoch 21/60\n",
      "22500/22500 [==============================] - ETA: 0s - loss: 0.1273 - accuracy: 0.9537 - precision_1: 0.9542 - recall_1: 0.9531"
     ]
    },
    {
     "name": "stderr",
     "output_type": "stream",
     "text": [
      "WARNING:absl:Found untraced functions such as lstm_cell_25_layer_call_fn, lstm_cell_25_layer_call_and_return_conditional_losses, lstm_cell_26_layer_call_fn, lstm_cell_26_layer_call_and_return_conditional_losses while saving (showing 4 of 4). These functions will not be directly callable after loading.\n"
     ]
    },
    {
     "name": "stdout",
     "output_type": "stream",
     "text": [
      "INFO:tensorflow:Assets written to: Model5-3mdata_fbest_model\\assets\n"
     ]
    },
    {
     "name": "stderr",
     "output_type": "stream",
     "text": [
      "INFO:tensorflow:Assets written to: Model5-3mdata_fbest_model\\assets\n"
     ]
    },
    {
     "name": "stdout",
     "output_type": "stream",
     "text": [
      "22500/22500 [==============================] - 1364s 61ms/step - loss: 0.1273 - accuracy: 0.9537 - precision_1: 0.9542 - recall_1: 0.9531 - val_loss: 0.1308 - val_accuracy: 0.9520 - val_precision_1: 0.9548 - val_recall_1: 0.9491\n",
      "Epoch 22/60\n",
      "22500/22500 [==============================] - ETA: 0s - loss: 0.1265 - accuracy: 0.9540 - precision_1: 0.9546 - recall_1: 0.9533"
     ]
    },
    {
     "name": "stderr",
     "output_type": "stream",
     "text": [
      "WARNING:absl:Found untraced functions such as lstm_cell_25_layer_call_fn, lstm_cell_25_layer_call_and_return_conditional_losses, lstm_cell_26_layer_call_fn, lstm_cell_26_layer_call_and_return_conditional_losses while saving (showing 4 of 4). These functions will not be directly callable after loading.\n"
     ]
    },
    {
     "name": "stdout",
     "output_type": "stream",
     "text": [
      "INFO:tensorflow:Assets written to: Model5-3mdata_fbest_model\\assets\n"
     ]
    },
    {
     "name": "stderr",
     "output_type": "stream",
     "text": [
      "INFO:tensorflow:Assets written to: Model5-3mdata_fbest_model\\assets\n"
     ]
    },
    {
     "name": "stdout",
     "output_type": "stream",
     "text": [
      "22500/22500 [==============================] - 1364s 61ms/step - loss: 0.1265 - accuracy: 0.9540 - precision_1: 0.9546 - recall_1: 0.9533 - val_loss: 0.1297 - val_accuracy: 0.9523 - val_precision_1: 0.9541 - val_recall_1: 0.9503\n",
      "Epoch 23/60\n",
      "22499/22500 [============================>.] - ETA: 0s - loss: 0.1257 - accuracy: 0.9543 - precision_1: 0.9549 - recall_1: 0.9537"
     ]
    },
    {
     "name": "stderr",
     "output_type": "stream",
     "text": [
      "WARNING:absl:Found untraced functions such as lstm_cell_25_layer_call_fn, lstm_cell_25_layer_call_and_return_conditional_losses, lstm_cell_26_layer_call_fn, lstm_cell_26_layer_call_and_return_conditional_losses while saving (showing 4 of 4). These functions will not be directly callable after loading.\n"
     ]
    },
    {
     "name": "stdout",
     "output_type": "stream",
     "text": [
      "INFO:tensorflow:Assets written to: Model5-3mdata_fbest_model\\assets\n"
     ]
    },
    {
     "name": "stderr",
     "output_type": "stream",
     "text": [
      "INFO:tensorflow:Assets written to: Model5-3mdata_fbest_model\\assets\n"
     ]
    },
    {
     "name": "stdout",
     "output_type": "stream",
     "text": [
      "22500/22500 [==============================] - 1345s 60ms/step - loss: 0.1257 - accuracy: 0.9543 - precision_1: 0.9549 - recall_1: 0.9537 - val_loss: 0.1289 - val_accuracy: 0.9525 - val_precision_1: 0.9540 - val_recall_1: 0.9509\n",
      "Epoch 24/60\n",
      "22500/22500 [==============================] - 1337s 59ms/step - loss: 0.1250 - accuracy: 0.9547 - precision_1: 0.9553 - recall_1: 0.9540 - val_loss: 0.1313 - val_accuracy: 0.9516 - val_precision_1: 0.9617 - val_recall_1: 0.9408\n",
      "Epoch 25/60\n",
      "22500/22500 [==============================] - 1335s 59ms/step - loss: 0.1243 - accuracy: 0.9549 - precision_1: 0.9555 - recall_1: 0.9543 - val_loss: 0.1290 - val_accuracy: 0.9529 - val_precision_1: 0.9511 - val_recall_1: 0.9550\n",
      "Epoch 26/60\n",
      "22500/22500 [==============================] - ETA: 0s - loss: 0.1236 - accuracy: 0.9553 - precision_1: 0.9558 - recall_1: 0.9547"
     ]
    },
    {
     "name": "stderr",
     "output_type": "stream",
     "text": [
      "WARNING:absl:Found untraced functions such as lstm_cell_25_layer_call_fn, lstm_cell_25_layer_call_and_return_conditional_losses, lstm_cell_26_layer_call_fn, lstm_cell_26_layer_call_and_return_conditional_losses while saving (showing 4 of 4). These functions will not be directly callable after loading.\n"
     ]
    },
    {
     "name": "stdout",
     "output_type": "stream",
     "text": [
      "INFO:tensorflow:Assets written to: Model5-3mdata_fbest_model\\assets\n"
     ]
    },
    {
     "name": "stderr",
     "output_type": "stream",
     "text": [
      "INFO:tensorflow:Assets written to: Model5-3mdata_fbest_model\\assets\n"
     ]
    },
    {
     "name": "stdout",
     "output_type": "stream",
     "text": [
      "22500/22500 [==============================] - 1355s 60ms/step - loss: 0.1236 - accuracy: 0.9553 - precision_1: 0.9558 - recall_1: 0.9547 - val_loss: 0.1281 - val_accuracy: 0.9529 - val_precision_1: 0.9570 - val_recall_1: 0.9486\n",
      "Epoch 27/60\n",
      "22500/22500 [==============================] - ETA: 0s - loss: 0.1230 - accuracy: 0.9554 - precision_1: 0.9559 - recall_1: 0.9549"
     ]
    },
    {
     "name": "stderr",
     "output_type": "stream",
     "text": [
      "WARNING:absl:Found untraced functions such as lstm_cell_25_layer_call_fn, lstm_cell_25_layer_call_and_return_conditional_losses, lstm_cell_26_layer_call_fn, lstm_cell_26_layer_call_and_return_conditional_losses while saving (showing 4 of 4). These functions will not be directly callable after loading.\n"
     ]
    },
    {
     "name": "stdout",
     "output_type": "stream",
     "text": [
      "INFO:tensorflow:Assets written to: Model5-3mdata_fbest_model\\assets\n"
     ]
    },
    {
     "name": "stderr",
     "output_type": "stream",
     "text": [
      "INFO:tensorflow:Assets written to: Model5-3mdata_fbest_model\\assets\n"
     ]
    },
    {
     "name": "stdout",
     "output_type": "stream",
     "text": [
      "22500/22500 [==============================] - 1354s 60ms/step - loss: 0.1230 - accuracy: 0.9554 - precision_1: 0.9559 - recall_1: 0.9549 - val_loss: 0.1276 - val_accuracy: 0.9531 - val_precision_1: 0.9505 - val_recall_1: 0.9561\n",
      "Epoch 28/60\n",
      "22500/22500 [==============================] - ETA: 0s - loss: 0.1225 - accuracy: 0.9557 - precision_1: 0.9562 - recall_1: 0.9552"
     ]
    },
    {
     "name": "stderr",
     "output_type": "stream",
     "text": [
      "WARNING:absl:Found untraced functions such as lstm_cell_25_layer_call_fn, lstm_cell_25_layer_call_and_return_conditional_losses, lstm_cell_26_layer_call_fn, lstm_cell_26_layer_call_and_return_conditional_losses while saving (showing 4 of 4). These functions will not be directly callable after loading.\n"
     ]
    },
    {
     "name": "stdout",
     "output_type": "stream",
     "text": [
      "INFO:tensorflow:Assets written to: Model5-3mdata_fbest_model\\assets\n"
     ]
    },
    {
     "name": "stderr",
     "output_type": "stream",
     "text": [
      "INFO:tensorflow:Assets written to: Model5-3mdata_fbest_model\\assets\n"
     ]
    },
    {
     "name": "stdout",
     "output_type": "stream",
     "text": [
      "22500/22500 [==============================] - 1340s 60ms/step - loss: 0.1225 - accuracy: 0.9557 - precision_1: 0.9562 - recall_1: 0.9552 - val_loss: 0.1274 - val_accuracy: 0.9533 - val_precision_1: 0.9573 - val_recall_1: 0.9489\n",
      "Epoch 29/60\n",
      "22500/22500 [==============================] - 1331s 59ms/step - loss: 0.1218 - accuracy: 0.9560 - precision_1: 0.9565 - recall_1: 0.9555 - val_loss: 0.1280 - val_accuracy: 0.9532 - val_precision_1: 0.9587 - val_recall_1: 0.9473\n",
      "Epoch 30/60\n",
      "22500/22500 [==============================] - 1327s 59ms/step - loss: 0.1213 - accuracy: 0.9563 - precision_1: 0.9568 - recall_1: 0.9557 - val_loss: 0.1282 - val_accuracy: 0.9529 - val_precision_1: 0.9607 - val_recall_1: 0.9444\n",
      "Epoch 31/60\n",
      "22500/22500 [==============================] - 1323s 59ms/step - loss: 0.1207 - accuracy: 0.9564 - precision_1: 0.9570 - recall_1: 0.9558 - val_loss: 0.1277 - val_accuracy: 0.9533 - val_precision_1: 0.9590 - val_recall_1: 0.9472\n"
     ]
    },
    {
     "data": {
      "image/png": "[encoded data removed]",
      "text/plain": [
       "<Figure size 640x480 with 1 Axes>"
      ]
     },
     "metadata": {},
     "output_type": "display_data"
    }
   ],
   "source": [
    "# Training of the model\n",
    "optimizer = RMSprop(learning_rate=0.000025)\n",
    "model.compile(optimizer=optimizer, loss='binary_crossentropy', metrics=['accuracy', tf.keras.metrics.Precision(), tf.keras.metrics.Recall()])\n",
    "early_stopping = EarlyStopping(monitor='val_loss', patience=3, restore_best_weights=True)\n",
    "model_checkpoint = ModelCheckpoint('Model5-3mdata_fbest_model', monitor='val_loss', save_best_only=True)\n",
    "history = model.fit(X_train, y_train, epochs=60, batch_size=128, \n",
    "                    validation_data=(X_val, y_val),\n",
    "                    callbacks=[early_stopping, model_checkpoint], verbose=1)\n",
    "plt.plot(history.history['loss'], label='Training Loss')\n",
    "plt.plot(history.history['val_loss'], label='Validation Loss')\n",
    "plt.xlabel('Epoch')\n",
    "plt.ylabel('Loss')\n",
    "plt.legend()\n",
    "plt.savefig('Model5-3mdata_loss_curve.png')\n",
    "plt.show()"
   ]
  },
  {
   "cell_type": "markdown",
   "id": "ee065149-997e-4677-b675-b44f833c12d0",
   "metadata": {},
   "source": [
    "# Model Evaluation with Metrics"
   ]
  },
  {
   "cell_type": "code",
   "execution_count": 33,
   "id": "dc7dde26-91e7-41a1-b2ac-cd312d46f4e3",
   "metadata": {},
   "outputs": [
    {
     "name": "stdout",
     "output_type": "stream",
     "text": [
      "22500/22500 [==============================] - 410s 18ms/step\n",
      "Validation Accuracy: 0.9533\n",
      "Precision: 0.9573\n",
      "Recall: 0.9489\n",
      "F1 Score: 0.9531\n",
      "Sensitivity: 0.9489\n"
     ]
    },
    {
     "data": {
      "image/png": "[encoded data removed]",
      "text/plain": [
       "<Figure size 1200x500 with 3 Axes>"
      ]
     },
     "metadata": {},
     "output_type": "display_data"
    }
   ],
   "source": [
    "val_predictions = model.predict(X_val)\n",
    "val_predictions_prob_positive = val_predictions[:, 0] \n",
    "val_predictions_binary = np.where(val_predictions_prob_positive > 0.5, 1, 0)\n",
    "conf_matrix_val = confusion_matrix(y_val, val_predictions_binary)\n",
    "fpr_val, tpr_val, _ = roc_curve(y_val, val_predictions_prob_positive)\n",
    "roc_auc_val = auc(fpr_val, tpr_val)\n",
    "precision_val, recall_val, _ = precision_recall_curve(y_val, val_predictions_prob_positive)\n",
    "pr_auc_val = average_precision_score(y_val, val_predictions_prob_positive)\n",
    "accuracy_val = accuracy_score(y_val, val_predictions_binary)\n",
    "precision_val = precision_score(y_val, val_predictions_binary)\n",
    "recall_val = recall_score(y_val, val_predictions_binary)\n",
    "f1_val = f1_score(y_val, val_predictions_binary)\n",
    "sensitivity_val = recall_val\n",
    "print(f'Validation Accuracy: {accuracy_val:.4f}')\n",
    "print(f'Precision: {precision_val:.4f}')\n",
    "print(f'Recall: {recall_val:.4f}')\n",
    "print(f'F1 Score: {f1_val:.4f}')\n",
    "print(f'Sensitivity: {sensitivity_val:.4f}')\n",
    "plt.figure(figsize=(12, 5))\n",
    "classes = ['0', '1']  \n",
    "plt.subplot(1, 2, 1)\n",
    "plt.imshow(conf_matrix_val, interpolation='nearest', cmap=plt.cm.Blues)\n",
    "plt.title('Validation Confusion Matrix')\n",
    "plt.colorbar()\n",
    "plt.xlabel('Predicted label')\n",
    "plt.ylabel('True label')\n",
    "plt.xticks(np.arange(len(classes)), classes, rotation=45)  \n",
    "plt.yticks(np.arange(len(classes)), classes)\n",
    "for i in range(len(classes)):\n",
    "    for j in range(len(classes)):\n",
    "        plt.text(j, i, format(conf_matrix_val[i, j], 'd'),\n",
    "                 horizontalalignment=\"center\",\n",
    "                 color=\"white\" if conf_matrix_val[i, j] > conf_matrix_val.max() / 2 else \"black\")\n",
    "plt.subplot(1, 2, 2)\n",
    "plt.plot(fpr_val, tpr_val, color='darkorange', lw=2, label=f'ROC curve (AUC = {roc_auc_val:.2f})')\n",
    "plt.plot([0, 1], [0, 1], color='navy', lw=2, linestyle='--')\n",
    "plt.xlim([0.0, 1.0])\n",
    "plt.ylim([0.0, 1.05])\n",
    "plt.xlabel('False Positive Rate')\n",
    "plt.ylabel('True Positive Rate')\n",
    "plt.title('Validation Receiver Operating Characteristic')\n",
    "plt.legend(loc='lower right')\n",
    "plt.tight_layout()\n",
    "plt.savefig('Model5-3mdata_validation_metrics.png')\n",
    "plt.show()"
   ]
  },
  {
   "cell_type": "code",
   "execution_count": 34,
   "id": "73f4968d-8776-4a49-ab64-f1416b0113bc",
   "metadata": {},
   "outputs": [
    {
     "data": {
      "image/png": "[encoded data removed]",
      "text/plain": [
       "<Figure size 640x480 with 1 Axes>"
      ]
     },
     "metadata": {},
     "output_type": "display_data"
    }
   ],
   "source": [
    "# Plot accuracy curves\n",
    "plt.plot(history.history['accuracy'], label='Training Accuracy')\n",
    "plt.plot(history.history['val_accuracy'], label='Validation Accuracy')\n",
    "plt.xlabel('Epoch')\n",
    "plt.ylabel('Accuracy')\n",
    "plt.legend()\n",
    "plt.savefig('Model5-3mdata_accuracy_curve.png')\n",
    "plt.show()\n"
   ]
  }
 ],
 "metadata": {
  "kernelspec": {
   "display_name": "Python 3 (ipykernel)",
   "language": "python",
   "name": "python3"
  },
  "language_info": {
   "codemirror_mode": {
    "name": "ipython",
    "version": 3
   },
   "file_extension": ".py",
   "mimetype": "text/x-python",
   "name": "python",
   "nbconvert_exporter": "python",
   "pygments_lexer": "ipython3",
   "version": "3.9.19"
  }
 },
 "nbformat": 4,
 "nbformat_minor": 5
}

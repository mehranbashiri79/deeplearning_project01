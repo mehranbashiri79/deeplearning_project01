{
 "cells": [
  {
   "cell_type": "markdown",
   "id": "9ae301e8",
   "metadata": {},
   "source": [
    "# Amazon Review Sentiment Analysis-Hybrid MODEL(LSTM+GRU)"
   ]
  },
  {
   "cell_type": "code",
   "execution_count": 5,
   "id": "73e436a3-8463-4bac-8eb0-762e6aa9d01e",
   "metadata": {},
   "outputs": [],
   "source": [
    "# Importing Libraries\n",
    "import re\n",
    "import pickle\n",
    "import numpy as np\n",
    "import pandas as pd\n",
    "import matplotlib.pyplot as plt\n",
    "import seaborn as sns\n",
    "from tqdm import tqdm\n",
    "\n",
    "# Scikit-learn for model evaluation\n",
    "from sklearn.model_selection import train_test_split\n",
    "from sklearn.metrics import (confusion_matrix, classification_report,\n",
    "                             roc_curve, auc, precision_recall_curve,\n",
    "                             average_precision_score, accuracy_score,\n",
    "                             precision_score, recall_score, f1_score)\n",
    "\n",
    "# NLTK for sentiment analysis\n",
    "from nltk.sentiment.vader import SentimentIntensityAnalyzer\n",
    "\n",
    "# TensorFlow and Keras for deep learning\n",
    "import tensorflow as tf\n",
    "from tensorflow.keras.models import Sequential, Model\n",
    "from tensorflow.keras.layers import (Dense, LSTM, SpatialDropout1D, Embedding,\n",
    "                                     Bidirectional, Dropout, GlobalMaxPooling1D,\n",
    "                                     Input, GRU)\n",
    "from tensorflow.keras.preprocessing.text import Tokenizer\n",
    "from tensorflow.keras.preprocessing.sequence import pad_sequences\n",
    "from tensorflow.keras.callbacks import EarlyStopping, ModelCheckpoint\n",
    "from tensorflow.keras.optimizers import RMSprop\n"
   ]
  },
  {
   "cell_type": "markdown",
   "id": "0ffd7ab6",
   "metadata": {},
   "source": [
    "# Load the Dataset into a DataFrame"
   ]
  },
  {
   "cell_type": "code",
   "execution_count": 3,
   "id": "556885ea-0de8-439c-bfef-ec13d5cc27b6",
   "metadata": {},
   "outputs": [],
   "source": [
    "# Set random seed for reproducibility\n",
    "np.random.seed(42)\n",
    "\n",
    "def get_labels_and_texts(file, num_samples=None):\n",
    "    labels = []\n",
    "    texts = []\n",
    "    with open(file, \"r\", encoding='utf-8') as f:  # Open in text mode with utf-8 encoding\n",
    "        for i, line in enumerate(f):\n",
    "            if num_samples is not None and i >= num_samples:\n",
    "                break\n",
    "            x = line.split(\" \", 1)  # Split line into label and text\n",
    "            labels.append(int(x[0].split(\"__label__\")[1]) - 1)\n",
    "            texts.append(x[1].strip())\n",
    "    return np.array(labels), texts\n",
    "\n",
    "train_labels, train_texts = get_labels_and_texts(\"Dataset/train.ft.txt\", num_samples=3600000)\n",
    "test_labels, test_texts = get_labels_and_texts(\"Dataset/test.ft.txt\", num_samples=400000)\n",
    "\n",
    "train_df = pd.DataFrame({'text': train_texts, 'label': train_labels})\n",
    "test_df = pd.DataFrame({'text': test_texts, 'label': test_labels})\n"
   ]
  },
  {
   "cell_type": "markdown",
   "id": "26be2a76",
   "metadata": {},
   "source": [
    "# Clean and Preprocess the Data"
   ]
  },
  {
   "cell_type": "code",
   "execution_count": 11,
   "id": "4829498b-9d77-43c0-8ff8-91088ef432fb",
   "metadata": {},
   "outputs": [],
   "source": [
    "#Cleaning\n",
    "import re\n",
    "NON_ALPHANUM = re.compile(r'[\\W]')\n",
    "NON_ASCII = re.compile(r'[^a-z0-1\\s]')\n",
    "def normalize_texts(texts):\n",
    "    normalized_texts = []\n",
    "    for text in texts:\n",
    "        lower = text.lower()\n",
    "        no_punctuation = NON_ALPHANUM.sub(r' ', lower)\n",
    "        no_non_ascii = NON_ASCII.sub(r'', no_punctuation)\n",
    "        normalized_texts.append(no_non_ascii)\n",
    "    return normalized_texts\n",
    "        \n",
    "train_texts = normalize_texts(train_texts)\n",
    "test_texts = normalize_texts(test_texts)"
   ]
  },
  {
   "cell_type": "code",
   "execution_count": 12,
   "id": "aa241583-6da2-424c-a4e2-5ef0969d0109",
   "metadata": {},
   "outputs": [],
   "source": [
    "# Tokenize texts\n",
    "MAX_FEATURES = 12000\n",
    "tokenizer = Tokenizer(num_words=MAX_FEATURES)\n",
    "tokenizer.fit_on_texts(train_texts)\n",
    "train_texts = tokenizer.texts_to_sequences(train_texts)\n",
    "test_texts = tokenizer.texts_to_sequences(test_texts)"
   ]
  },
  {
   "cell_type": "code",
   "execution_count": 13,
   "id": "80259162-e433-4f28-88b9-e4b1bc31deeb",
   "metadata": {},
   "outputs": [],
   "source": [
    "# Padding\n",
    "MAX_LENGTH = max(len(train_ex) for train_ex in train_texts)\n",
    "train_texts = pad_sequences(train_texts, maxlen=MAX_LENGTH, padding='post')\n",
    "test_texts = pad_sequences(test_texts, maxlen=MAX_LENGTH, padding='post')"
   ]
  },
  {
   "cell_type": "markdown",
   "id": "46e42ab0",
   "metadata": {},
   "source": [
    "# Define the model architecture "
   ]
  },
  {
   "cell_type": "code",
   "execution_count": 15,
   "id": "ea05f534-0a9c-4338-8e0a-064b239ad846",
   "metadata": {},
   "outputs": [
    {
     "name": "stdout",
     "output_type": "stream",
     "text": [
      "Model: \"custom_model\"\n",
      "_________________________________________________________________\n",
      " Layer (type)                Output Shape              Param #   \n",
      "=================================================================\n",
      " input_layer (InputLayer)    [(None, 255)]             0         \n",
      "                                                                 \n",
      " embedding_layer (Embedding)  (None, 255, 128)         1536000   \n",
      "                                                                 \n",
      " spatial_dropout (SpatialDro  (None, 255, 128)         0         \n",
      " pout1D)                                                         \n",
      "                                                                 \n",
      " bidirectional_lstm (Bidirec  (None, 255, 256)         263168    \n",
      " tional)                                                         \n",
      "                                                                 \n",
      " bidirectional_gru (Bidirect  (None, 255, 256)         296448    \n",
      " ional)                                                          \n",
      "                                                                 \n",
      " global_max_pooling (GlobalM  (None, 256)              0         \n",
      " axPooling1D)                                                    \n",
      "                                                                 \n",
      " dense (Dense)               (None, 64)                16448     \n",
      "                                                                 \n",
      " dropout (Dropout)           (None, 64)                0         \n",
      "                                                                 \n",
      " output_layer (Dense)        (None, 1)                 65        \n",
      "                                                                 \n",
      "=================================================================\n",
      "Total params: 2,112,129\n",
      "Trainable params: 2,112,129\n",
      "Non-trainable params: 0\n",
      "_________________________________________________________________\n",
      "None\n"
     ]
    }
   ],
   "source": [
    "#GRU_LSTM Model definition\n",
    "max_seq_length = MAX_LENGTH\n",
    "vocab_size = 12000\n",
    "embedding_dim = 128\n",
    "lstm_units = 128\n",
    "dropout_rate = 0.1\n",
    "\n",
    "inputs = Input(shape=(max_seq_length,), name='input_layer')\n",
    "embedding = Embedding(input_dim=vocab_size, output_dim=embedding_dim, input_length=max_seq_length, name='embedding_layer')(inputs)\n",
    "spatial_dropout = SpatialDropout1D(dropout_rate, name='spatial_dropout')(embedding)\n",
    "lstm = Bidirectional(LSTM(lstm_units, return_sequences=True), name='bidirectional_lstm')(spatial_dropout)\n",
    "gru = Bidirectional(GRU(lstm_units, return_sequences=True), name='bidirectional_gru')(lstm)\n",
    "pooling = GlobalMaxPooling1D(name='global_max_pooling')(gru)\n",
    "dense = Dense(64, activation='relu', name='dense')(pooling)\n",
    "dropout = Dropout(dropout_rate, name='dropout')(dense)\n",
    "outputs = Dense(1, activation='sigmoid', name='output_layer')(dropout)\n",
    "model = Model(inputs=inputs, outputs=outputs, name='custom_model')\n",
    "model.compile(optimizer='adam', loss='binary_crossentropy', metrics=['accuracy'])\n",
    "early_stopping = EarlyStopping(monitor='val_loss', patience=3, restore_best_weights=True)\n",
    "print(model.summary())"
   ]
  },
  {
   "cell_type": "markdown",
   "id": "9181c79d",
   "metadata": {},
   "source": [
    "# Train the Model"
   ]
  },
  {
   "cell_type": "code",
   "execution_count": null,
   "id": "84216ac4",
   "metadata": {},
   "outputs": [],
   "source": [
    "# Split data into train and validation sets\n",
    "X_train, X_val, y_train, y_val = train_test_split(train_texts, train_labels, test_size=0.2, random_state=42)"
   ]
  },
  {
   "cell_type": "code",
   "execution_count": null,
   "id": "5d13cbce-1955-43bb-8ad4-1816f0afe1fe",
   "metadata": {},
   "outputs": [
    {
     "name": "stdout",
     "output_type": "stream",
     "text": [
      "Epoch 1/60\n",
      "22500/22500 [==============================] - ETA: 0s - loss: 0.2593 - accuracy: 0.8933 - precision_1: 0.8973 - recall_1: 0.8883"
     ]
    },
    {
     "name": "stderr",
     "output_type": "stream",
     "text": [
      "WARNING:absl:Found untraced functions such as lstm_cell_4_layer_call_fn, lstm_cell_4_layer_call_and_return_conditional_losses, lstm_cell_5_layer_call_fn, lstm_cell_5_layer_call_and_return_conditional_losses, gru_cell_4_layer_call_fn while saving (showing 5 of 8). These functions will not be directly callable after loading.\n"
     ]
    },
    {
     "name": "stdout",
     "output_type": "stream",
     "text": [
      "INFO:tensorflow:Assets written to: Model4-3mdata_fbest_model\\assets\n"
     ]
    },
    {
     "name": "stderr",
     "output_type": "stream",
     "text": [
      "INFO:tensorflow:Assets written to: Model4-3mdata_fbest_model\\assets\n"
     ]
    },
    {
     "name": "stdout",
     "output_type": "stream",
     "text": [
      "22500/22500 [==============================] - 3844s 171ms/step - loss: 0.2593 - accuracy: 0.8933 - precision_1: 0.8973 - recall_1: 0.8883 - val_loss: 0.2113 - val_accuracy: 0.9156 - val_precision_1: 0.9382 - val_recall_1: 0.8899\n",
      "Epoch 2/60\n",
      "22500/22500 [==============================] - ETA: 0s - loss: 0.1938 - accuracy: 0.9248 - precision_1: 0.9270 - recall_1: 0.9222"
     ]
    },
    {
     "name": "stderr",
     "output_type": "stream",
     "text": [
      "WARNING:absl:Found untraced functions such as lstm_cell_4_layer_call_fn, lstm_cell_4_layer_call_and_return_conditional_losses, lstm_cell_5_layer_call_fn, lstm_cell_5_layer_call_and_return_conditional_losses, gru_cell_4_layer_call_fn while saving (showing 5 of 8). These functions will not be directly callable after loading.\n"
     ]
    },
    {
     "name": "stdout",
     "output_type": "stream",
     "text": [
      "INFO:tensorflow:Assets written to: Model4-3mdata_fbest_model\\assets\n"
     ]
    },
    {
     "name": "stderr",
     "output_type": "stream",
     "text": [
      "INFO:tensorflow:Assets written to: Model4-3mdata_fbest_model\\assets\n"
     ]
    },
    {
     "name": "stdout",
     "output_type": "stream",
     "text": [
      "22500/22500 [==============================] - 3836s 170ms/step - loss: 0.1938 - accuracy: 0.9248 - precision_1: 0.9270 - recall_1: 0.9222 - val_loss: 0.1721 - val_accuracy: 0.9338 - val_precision_1: 0.9365 - val_recall_1: 0.9308\n",
      "Epoch 3/60\n",
      "22500/22500 [==============================] - ETA: 0s - loss: 0.1684 - accuracy: 0.9358 - precision_1: 0.9371 - recall_1: 0.9343"
     ]
    },
    {
     "name": "stderr",
     "output_type": "stream",
     "text": [
      "WARNING:absl:Found untraced functions such as lstm_cell_4_layer_call_fn, lstm_cell_4_layer_call_and_return_conditional_losses, lstm_cell_5_layer_call_fn, lstm_cell_5_layer_call_and_return_conditional_losses, gru_cell_4_layer_call_fn while saving (showing 5 of 8). These functions will not be directly callable after loading.\n"
     ]
    },
    {
     "name": "stdout",
     "output_type": "stream",
     "text": [
      "INFO:tensorflow:Assets written to: Model4-3mdata_fbest_model\\assets\n"
     ]
    },
    {
     "name": "stderr",
     "output_type": "stream",
     "text": [
      "INFO:tensorflow:Assets written to: Model4-3mdata_fbest_model\\assets\n"
     ]
    },
    {
     "name": "stdout",
     "output_type": "stream",
     "text": [
      "22500/22500 [==============================] - 3946s 175ms/step - loss: 0.1684 - accuracy: 0.9358 - precision_1: 0.9371 - recall_1: 0.9343 - val_loss: 0.1589 - val_accuracy: 0.9397 - val_precision_1: 0.9371 - val_recall_1: 0.9429\n",
      "Epoch 4/60\n",
      "22500/22500 [==============================] - ETA: 0s - loss: 0.1574 - accuracy: 0.9407 - precision_1: 0.9418 - recall_1: 0.9394"
     ]
    },
    {
     "name": "stderr",
     "output_type": "stream",
     "text": [
      "WARNING:absl:Found untraced functions such as lstm_cell_4_layer_call_fn, lstm_cell_4_layer_call_and_return_conditional_losses, lstm_cell_5_layer_call_fn, lstm_cell_5_layer_call_and_return_conditional_losses, gru_cell_4_layer_call_fn while saving (showing 5 of 8). These functions will not be directly callable after loading.\n"
     ]
    },
    {
     "name": "stdout",
     "output_type": "stream",
     "text": [
      "INFO:tensorflow:Assets written to: Model4-3mdata_fbest_model\\assets\n"
     ]
    },
    {
     "name": "stderr",
     "output_type": "stream",
     "text": [
      "INFO:tensorflow:Assets written to: Model4-3mdata_fbest_model\\assets\n"
     ]
    },
    {
     "name": "stdout",
     "output_type": "stream",
     "text": [
      "22500/22500 [==============================] - 3981s 177ms/step - loss: 0.1574 - accuracy: 0.9407 - precision_1: 0.9418 - recall_1: 0.9394 - val_loss: 0.1538 - val_accuracy: 0.9419 - val_precision_1: 0.9548 - val_recall_1: 0.9278\n",
      "Epoch 5/60\n",
      "22500/22500 [==============================] - ETA: 0s - loss: 0.1510 - accuracy: 0.9434 - precision_1: 0.9445 - recall_1: 0.9422"
     ]
    },
    {
     "name": "stderr",
     "output_type": "stream",
     "text": [
      "WARNING:absl:Found untraced functions such as lstm_cell_4_layer_call_fn, lstm_cell_4_layer_call_and_return_conditional_losses, lstm_cell_5_layer_call_fn, lstm_cell_5_layer_call_and_return_conditional_losses, gru_cell_4_layer_call_fn while saving (showing 5 of 8). These functions will not be directly callable after loading.\n"
     ]
    },
    {
     "name": "stdout",
     "output_type": "stream",
     "text": [
      "INFO:tensorflow:Assets written to: Model4-3mdata_fbest_model\\assets\n"
     ]
    },
    {
     "name": "stderr",
     "output_type": "stream",
     "text": [
      "INFO:tensorflow:Assets written to: Model4-3mdata_fbest_model\\assets\n"
     ]
    },
    {
     "name": "stdout",
     "output_type": "stream",
     "text": [
      "22500/22500 [==============================] - 4001s 178ms/step - loss: 0.1510 - accuracy: 0.9434 - precision_1: 0.9445 - recall_1: 0.9422 - val_loss: 0.1469 - val_accuracy: 0.9449 - val_precision_1: 0.9431 - val_recall_1: 0.9469\n",
      "Epoch 6/60\n",
      "22500/22500 [==============================] - ETA: 0s - loss: 0.1467 - accuracy: 0.9454 - precision_1: 0.9464 - recall_1: 0.9442"
     ]
    },
    {
     "name": "stderr",
     "output_type": "stream",
     "text": [
      "WARNING:absl:Found untraced functions such as lstm_cell_4_layer_call_fn, lstm_cell_4_layer_call_and_return_conditional_losses, lstm_cell_5_layer_call_fn, lstm_cell_5_layer_call_and_return_conditional_losses, gru_cell_4_layer_call_fn while saving (showing 5 of 8). These functions will not be directly callable after loading.\n"
     ]
    },
    {
     "name": "stdout",
     "output_type": "stream",
     "text": [
      "INFO:tensorflow:Assets written to: Model4-3mdata_fbest_model\\assets\n"
     ]
    },
    {
     "name": "stderr",
     "output_type": "stream",
     "text": [
      "INFO:tensorflow:Assets written to: Model4-3mdata_fbest_model\\assets\n"
     ]
    },
    {
     "name": "stdout",
     "output_type": "stream",
     "text": [
      "22500/22500 [==============================] - 3981s 177ms/step - loss: 0.1467 - accuracy: 0.9454 - precision_1: 0.9464 - recall_1: 0.9442 - val_loss: 0.1431 - val_accuracy: 0.9463 - val_precision_1: 0.9458 - val_recall_1: 0.9469\n",
      "Epoch 7/60\n",
      "22500/22500 [==============================] - ETA: 0s - loss: 0.1434 - accuracy: 0.9467 - precision_1: 0.9477 - recall_1: 0.9457"
     ]
    },
    {
     "name": "stderr",
     "output_type": "stream",
     "text": [
      "WARNING:absl:Found untraced functions such as lstm_cell_4_layer_call_fn, lstm_cell_4_layer_call_and_return_conditional_losses, lstm_cell_5_layer_call_fn, lstm_cell_5_layer_call_and_return_conditional_losses, gru_cell_4_layer_call_fn while saving (showing 5 of 8). These functions will not be directly callable after loading.\n"
     ]
    },
    {
     "name": "stdout",
     "output_type": "stream",
     "text": [
      "INFO:tensorflow:Assets written to: Model4-3mdata_fbest_model\\assets\n"
     ]
    },
    {
     "name": "stderr",
     "output_type": "stream",
     "text": [
      "INFO:tensorflow:Assets written to: Model4-3mdata_fbest_model\\assets\n"
     ]
    },
    {
     "name": "stdout",
     "output_type": "stream",
     "text": [
      "22500/22500 [==============================] - 3993s 177ms/step - loss: 0.1434 - accuracy: 0.9467 - precision_1: 0.9477 - recall_1: 0.9457 - val_loss: 0.1410 - val_accuracy: 0.9472 - val_precision_1: 0.9461 - val_recall_1: 0.9485\n",
      "Epoch 8/60\n",
      "22500/22500 [==============================] - 3932s 175ms/step - loss: 0.1406 - accuracy: 0.9479 - precision_1: 0.9488 - recall_1: 0.9468 - val_loss: 0.1416 - val_accuracy: 0.9468 - val_precision_1: 0.9592 - val_recall_1: 0.9334\n",
      "Epoch 9/60\n",
      "22500/22500 [==============================] - ETA: 0s - loss: 0.1383 - accuracy: 0.9489 - precision_1: 0.9499 - recall_1: 0.9479"
     ]
    },
    {
     "name": "stderr",
     "output_type": "stream",
     "text": [
      "WARNING:absl:Found untraced functions such as lstm_cell_4_layer_call_fn, lstm_cell_4_layer_call_and_return_conditional_losses, lstm_cell_5_layer_call_fn, lstm_cell_5_layer_call_and_return_conditional_losses, gru_cell_4_layer_call_fn while saving (showing 5 of 8). These functions will not be directly callable after loading.\n"
     ]
    },
    {
     "name": "stdout",
     "output_type": "stream",
     "text": [
      "INFO:tensorflow:Assets written to: Model4-3mdata_fbest_model\\assets\n"
     ]
    },
    {
     "name": "stderr",
     "output_type": "stream",
     "text": [
      "INFO:tensorflow:Assets written to: Model4-3mdata_fbest_model\\assets\n"
     ]
    },
    {
     "name": "stdout",
     "output_type": "stream",
     "text": [
      "22500/22500 [==============================] - 3978s 177ms/step - loss: 0.1383 - accuracy: 0.9489 - precision_1: 0.9499 - recall_1: 0.9479 - val_loss: 0.1371 - val_accuracy: 0.9488 - val_precision_1: 0.9482 - val_recall_1: 0.9496\n",
      "Epoch 10/60\n",
      "22500/22500 [==============================] - ETA: 0s - loss: 0.1362 - accuracy: 0.9498 - precision_1: 0.9507 - recall_1: 0.9489"
     ]
    },
    {
     "name": "stderr",
     "output_type": "stream",
     "text": [
      "WARNING:absl:Found untraced functions such as lstm_cell_4_layer_call_fn, lstm_cell_4_layer_call_and_return_conditional_losses, lstm_cell_5_layer_call_fn, lstm_cell_5_layer_call_and_return_conditional_losses, gru_cell_4_layer_call_fn while saving (showing 5 of 8). These functions will not be directly callable after loading.\n"
     ]
    },
    {
     "name": "stdout",
     "output_type": "stream",
     "text": [
      "INFO:tensorflow:Assets written to: Model4-3mdata_fbest_model\\assets\n"
     ]
    },
    {
     "name": "stderr",
     "output_type": "stream",
     "text": [
      "INFO:tensorflow:Assets written to: Model4-3mdata_fbest_model\\assets\n"
     ]
    },
    {
     "name": "stdout",
     "output_type": "stream",
     "text": [
      "22500/22500 [==============================] - 3999s 178ms/step - loss: 0.1362 - accuracy: 0.9498 - precision_1: 0.9507 - recall_1: 0.9489 - val_loss: 0.1358 - val_accuracy: 0.9497 - val_precision_1: 0.9486 - val_recall_1: 0.9510\n",
      "Epoch 11/60\n",
      "22500/22500 [==============================] - ETA: 0s - loss: 0.1342 - accuracy: 0.9506 - precision_1: 0.9514 - recall_1: 0.9496"
     ]
    },
    {
     "name": "stderr",
     "output_type": "stream",
     "text": [
      "WARNING:absl:Found untraced functions such as lstm_cell_4_layer_call_fn, lstm_cell_4_layer_call_and_return_conditional_losses, lstm_cell_5_layer_call_fn, lstm_cell_5_layer_call_and_return_conditional_losses, gru_cell_4_layer_call_fn while saving (showing 5 of 8). These functions will not be directly callable after loading.\n"
     ]
    },
    {
     "name": "stdout",
     "output_type": "stream",
     "text": [
      "INFO:tensorflow:Assets written to: Model4-3mdata_fbest_model\\assets\n"
     ]
    },
    {
     "name": "stderr",
     "output_type": "stream",
     "text": [
      "INFO:tensorflow:Assets written to: Model4-3mdata_fbest_model\\assets\n"
     ]
    },
    {
     "name": "stdout",
     "output_type": "stream",
     "text": [
      "22500/22500 [==============================] - 3974s 177ms/step - loss: 0.1342 - accuracy: 0.9506 - precision_1: 0.9514 - recall_1: 0.9496 - val_loss: 0.1340 - val_accuracy: 0.9502 - val_precision_1: 0.9517 - val_recall_1: 0.9487\n",
      "Epoch 12/60\n",
      "22500/22500 [==============================] - 3016s 134ms/step - loss: 0.1325 - accuracy: 0.9515 - precision_1: 0.9523 - recall_1: 0.9506 - val_loss: 0.1357 - val_accuracy: 0.9496 - val_precision_1: 0.9401 - val_recall_1: 0.9605\n",
      "Epoch 13/60\n",
      "22500/22500 [==============================] - ETA: 0s - loss: 0.1309 - accuracy: 0.9521 - precision_1: 0.9528 - recall_1: 0.9513"
     ]
    },
    {
     "name": "stderr",
     "output_type": "stream",
     "text": [
      "WARNING:absl:Found untraced functions such as lstm_cell_4_layer_call_fn, lstm_cell_4_layer_call_and_return_conditional_losses, lstm_cell_5_layer_call_fn, lstm_cell_5_layer_call_and_return_conditional_losses, gru_cell_4_layer_call_fn while saving (showing 5 of 8). These functions will not be directly callable after loading.\n"
     ]
    },
    {
     "name": "stdout",
     "output_type": "stream",
     "text": [
      "INFO:tensorflow:Assets written to: Model4-3mdata_fbest_model\\assets\n"
     ]
    },
    {
     "name": "stderr",
     "output_type": "stream",
     "text": [
      "INFO:tensorflow:Assets written to: Model4-3mdata_fbest_model\\assets\n"
     ]
    },
    {
     "name": "stdout",
     "output_type": "stream",
     "text": [
      "22500/22500 [==============================] - 2475s 110ms/step - loss: 0.1309 - accuracy: 0.9521 - precision_1: 0.9528 - recall_1: 0.9513 - val_loss: 0.1328 - val_accuracy: 0.9508 - val_precision_1: 0.9448 - val_recall_1: 0.9575\n",
      "Epoch 14/60\n",
      "22500/22500 [==============================] - ETA: 0s - loss: 0.1294 - accuracy: 0.9528 - precision_1: 0.9535 - recall_1: 0.9520"
     ]
    },
    {
     "name": "stderr",
     "output_type": "stream",
     "text": [
      "WARNING:absl:Found untraced functions such as lstm_cell_4_layer_call_fn, lstm_cell_4_layer_call_and_return_conditional_losses, lstm_cell_5_layer_call_fn, lstm_cell_5_layer_call_and_return_conditional_losses, gru_cell_4_layer_call_fn while saving (showing 5 of 8). These functions will not be directly callable after loading.\n"
     ]
    },
    {
     "name": "stdout",
     "output_type": "stream",
     "text": [
      "INFO:tensorflow:Assets written to: Model4-3mdata_fbest_model\\assets\n"
     ]
    },
    {
     "name": "stderr",
     "output_type": "stream",
     "text": [
      "INFO:tensorflow:Assets written to: Model4-3mdata_fbest_model\\assets\n"
     ]
    },
    {
     "name": "stdout",
     "output_type": "stream",
     "text": [
      "22500/22500 [==============================] - 2441s 108ms/step - loss: 0.1294 - accuracy: 0.9528 - precision_1: 0.9535 - recall_1: 0.9520 - val_loss: 0.1309 - val_accuracy: 0.9516 - val_precision_1: 0.9562 - val_recall_1: 0.9467\n",
      "Epoch 15/60\n",
      "22500/22500 [==============================] - ETA: 0s - loss: 0.1281 - accuracy: 0.9533 - precision_1: 0.9540 - recall_1: 0.9525"
     ]
    },
    {
     "name": "stderr",
     "output_type": "stream",
     "text": [
      "WARNING:absl:Found untraced functions such as lstm_cell_4_layer_call_fn, lstm_cell_4_layer_call_and_return_conditional_losses, lstm_cell_5_layer_call_fn, lstm_cell_5_layer_call_and_return_conditional_losses, gru_cell_4_layer_call_fn while saving (showing 5 of 8). These functions will not be directly callable after loading.\n"
     ]
    },
    {
     "name": "stdout",
     "output_type": "stream",
     "text": [
      "INFO:tensorflow:Assets written to: Model4-3mdata_fbest_model\\assets\n"
     ]
    },
    {
     "name": "stderr",
     "output_type": "stream",
     "text": [
      "INFO:tensorflow:Assets written to: Model4-3mdata_fbest_model\\assets\n"
     ]
    },
    {
     "name": "stdout",
     "output_type": "stream",
     "text": [
      "22500/22500 [==============================] - 2449s 109ms/step - loss: 0.1281 - accuracy: 0.9533 - precision_1: 0.9540 - recall_1: 0.9525 - val_loss: 0.1303 - val_accuracy: 0.9522 - val_precision_1: 0.9500 - val_recall_1: 0.9548\n",
      "Epoch 16/60\n",
      "22500/22500 [==============================] - ETA: 0s - loss: 0.1270 - accuracy: 0.9538 - precision_1: 0.9544 - recall_1: 0.9530"
     ]
    },
    {
     "name": "stderr",
     "output_type": "stream",
     "text": [
      "WARNING:absl:Found untraced functions such as lstm_cell_4_layer_call_fn, lstm_cell_4_layer_call_and_return_conditional_losses, lstm_cell_5_layer_call_fn, lstm_cell_5_layer_call_and_return_conditional_losses, gru_cell_4_layer_call_fn while saving (showing 5 of 8). These functions will not be directly callable after loading.\n"
     ]
    },
    {
     "name": "stdout",
     "output_type": "stream",
     "text": [
      "INFO:tensorflow:Assets written to: Model4-3mdata_fbest_model\\assets\n"
     ]
    },
    {
     "name": "stderr",
     "output_type": "stream",
     "text": [
      "INFO:tensorflow:Assets written to: Model4-3mdata_fbest_model\\assets\n"
     ]
    },
    {
     "name": "stdout",
     "output_type": "stream",
     "text": [
      "22500/22500 [==============================] - 2460s 109ms/step - loss: 0.1270 - accuracy: 0.9538 - precision_1: 0.9544 - recall_1: 0.9530 - val_loss: 0.1291 - val_accuracy: 0.9525 - val_precision_1: 0.9555 - val_recall_1: 0.9493\n",
      "Epoch 17/60\n",
      "22500/22500 [==============================] - 2442s 109ms/step - loss: 0.1258 - accuracy: 0.9543 - precision_1: 0.9549 - recall_1: 0.9537 - val_loss: 0.1299 - val_accuracy: 0.9524 - val_precision_1: 0.9589 - val_recall_1: 0.9453\n",
      "Epoch 18/60\n",
      "22500/22500 [==============================] - 2428s 108ms/step - loss: 0.1246 - accuracy: 0.9547 - precision_1: 0.9554 - recall_1: 0.9541 - val_loss: 0.1305 - val_accuracy: 0.9519 - val_precision_1: 0.9425 - val_recall_1: 0.9626\n",
      "Epoch 19/60\n",
      "22500/22500 [==============================] - ETA: 0s - loss: 0.1236 - accuracy: 0.9552 - precision_1: 0.9559 - recall_1: 0.9543"
     ]
    },
    {
     "name": "stderr",
     "output_type": "stream",
     "text": [
      "WARNING:absl:Found untraced functions such as lstm_cell_4_layer_call_fn, lstm_cell_4_layer_call_and_return_conditional_losses, lstm_cell_5_layer_call_fn, lstm_cell_5_layer_call_and_return_conditional_losses, gru_cell_4_layer_call_fn while saving (showing 5 of 8). These functions will not be directly callable after loading.\n"
     ]
    },
    {
     "name": "stdout",
     "output_type": "stream",
     "text": [
      "INFO:tensorflow:Assets written to: Model4-3mdata_fbest_model\\assets\n"
     ]
    },
    {
     "name": "stderr",
     "output_type": "stream",
     "text": [
      "INFO:tensorflow:Assets written to: Model4-3mdata_fbest_model\\assets\n"
     ]
    },
    {
     "name": "stdout",
     "output_type": "stream",
     "text": [
      "22500/22500 [==============================] - 2471s 110ms/step - loss: 0.1236 - accuracy: 0.9552 - precision_1: 0.9559 - recall_1: 0.9543 - val_loss: 0.1275 - val_accuracy: 0.9531 - val_precision_1: 0.9513 - val_recall_1: 0.9552\n",
      "Epoch 20/60\n",
      "22500/22500 [==============================] - ETA: 0s - loss: 0.1227 - accuracy: 0.9555 - precision_1: 0.9563 - recall_1: 0.9547"
     ]
    },
    {
     "name": "stderr",
     "output_type": "stream",
     "text": [
      "WARNING:absl:Found untraced functions such as lstm_cell_4_layer_call_fn, lstm_cell_4_layer_call_and_return_conditional_losses, lstm_cell_5_layer_call_fn, lstm_cell_5_layer_call_and_return_conditional_losses, gru_cell_4_layer_call_fn while saving (showing 5 of 8). These functions will not be directly callable after loading.\n"
     ]
    },
    {
     "name": "stdout",
     "output_type": "stream",
     "text": [
      "INFO:tensorflow:Assets written to: Model4-3mdata_fbest_model\\assets\n"
     ]
    },
    {
     "name": "stderr",
     "output_type": "stream",
     "text": [
      "INFO:tensorflow:Assets written to: Model4-3mdata_fbest_model\\assets\n"
     ]
    },
    {
     "name": "stdout",
     "output_type": "stream",
     "text": [
      "22500/22500 [==============================] - 2470s 110ms/step - loss: 0.1227 - accuracy: 0.9555 - precision_1: 0.9563 - recall_1: 0.9547 - val_loss: 0.1270 - val_accuracy: 0.9537 - val_precision_1: 0.9521 - val_recall_1: 0.9555\n",
      "Epoch 21/60\n",
      "22500/22500 [==============================] - ETA: 0s - loss: 0.1219 - accuracy: 0.9558 - precision_1: 0.9565 - recall_1: 0.9551"
     ]
    },
    {
     "name": "stderr",
     "output_type": "stream",
     "text": [
      "WARNING:absl:Found untraced functions such as lstm_cell_4_layer_call_fn, lstm_cell_4_layer_call_and_return_conditional_losses, lstm_cell_5_layer_call_fn, lstm_cell_5_layer_call_and_return_conditional_losses, gru_cell_4_layer_call_fn while saving (showing 5 of 8). These functions will not be directly callable after loading.\n"
     ]
    },
    {
     "name": "stdout",
     "output_type": "stream",
     "text": [
      "INFO:tensorflow:Assets written to: Model4-3mdata_fbest_model\\assets\n"
     ]
    },
    {
     "name": "stderr",
     "output_type": "stream",
     "text": [
      "INFO:tensorflow:Assets written to: Model4-3mdata_fbest_model\\assets\n"
     ]
    },
    {
     "name": "stdout",
     "output_type": "stream",
     "text": [
      "22500/22500 [==============================] - 2485s 110ms/step - loss: 0.1219 - accuracy: 0.9558 - precision_1: 0.9565 - recall_1: 0.9551 - val_loss: 0.1260 - val_accuracy: 0.9538 - val_precision_1: 0.9570 - val_recall_1: 0.9504\n",
      "Epoch 22/60\n",
      "22500/22500 [==============================] - 2451s 109ms/step - loss: 0.1209 - accuracy: 0.9563 - precision_1: 0.9568 - recall_1: 0.9557 - val_loss: 0.1260 - val_accuracy: 0.9541 - val_precision_1: 0.9551 - val_recall_1: 0.9530\n",
      "Epoch 23/60\n",
      "22500/22500 [==============================] - ETA: 0s - loss: 0.1200 - accuracy: 0.9566 - precision_1: 0.9572 - recall_1: 0.9559"
     ]
    },
    {
     "name": "stderr",
     "output_type": "stream",
     "text": [
      "WARNING:absl:Found untraced functions such as lstm_cell_4_layer_call_fn, lstm_cell_4_layer_call_and_return_conditional_losses, lstm_cell_5_layer_call_fn, lstm_cell_5_layer_call_and_return_conditional_losses, gru_cell_4_layer_call_fn while saving (showing 5 of 8). These functions will not be directly callable after loading.\n"
     ]
    },
    {
     "name": "stdout",
     "output_type": "stream",
     "text": [
      "INFO:tensorflow:Assets written to: Model4-3mdata_fbest_model\\assets\n"
     ]
    },
    {
     "name": "stderr",
     "output_type": "stream",
     "text": [
      "INFO:tensorflow:Assets written to: Model4-3mdata_fbest_model\\assets\n"
     ]
    },
    {
     "name": "stdout",
     "output_type": "stream",
     "text": [
      "22500/22500 [==============================] - 2488s 111ms/step - loss: 0.1200 - accuracy: 0.9566 - precision_1: 0.9572 - recall_1: 0.9559 - val_loss: 0.1248 - val_accuracy: 0.9544 - val_precision_1: 0.9560 - val_recall_1: 0.9527\n",
      "Epoch 24/60\n",
      "22500/22500 [==============================] - 2470s 110ms/step - loss: 0.1193 - accuracy: 0.9570 - precision_1: 0.9577 - recall_1: 0.9564 - val_loss: 0.1252 - val_accuracy: 0.9544 - val_precision_1: 0.9545 - val_recall_1: 0.9544\n",
      "Epoch 25/60\n",
      "22500/22500 [==============================] - ETA: 0s - loss: 0.1186 - accuracy: 0.9574 - precision_1: 0.9579 - recall_1: 0.9567"
     ]
    },
    {
     "name": "stderr",
     "output_type": "stream",
     "text": [
      "WARNING:absl:Found untraced functions such as lstm_cell_4_layer_call_fn, lstm_cell_4_layer_call_and_return_conditional_losses, lstm_cell_5_layer_call_fn, lstm_cell_5_layer_call_and_return_conditional_losses, gru_cell_4_layer_call_fn while saving (showing 5 of 8). These functions will not be directly callable after loading.\n"
     ]
    },
    {
     "name": "stdout",
     "output_type": "stream",
     "text": [
      "INFO:tensorflow:Assets written to: Model4-3mdata_fbest_model\\assets\n"
     ]
    },
    {
     "name": "stderr",
     "output_type": "stream",
     "text": [
      "INFO:tensorflow:Assets written to: Model4-3mdata_fbest_model\\assets\n"
     ]
    },
    {
     "name": "stdout",
     "output_type": "stream",
     "text": [
      "22500/22500 [==============================] - 2493s 111ms/step - loss: 0.1186 - accuracy: 0.9574 - precision_1: 0.9579 - recall_1: 0.9567 - val_loss: 0.1243 - val_accuracy: 0.9545 - val_precision_1: 0.9581 - val_recall_1: 0.9505\n",
      "Epoch 26/60\n",
      "22500/22500 [==============================] - 2451s 109ms/step - loss: 0.1178 - accuracy: 0.9577 - precision_1: 0.9582 - recall_1: 0.9571 - val_loss: 0.1256 - val_accuracy: 0.9544 - val_precision_1: 0.9608 - val_recall_1: 0.9474\n",
      "Epoch 27/60\n",
      "22500/22500 [==============================] - 2482s 110ms/step - loss: 0.1172 - accuracy: 0.9579 - precision_1: 0.9585 - recall_1: 0.9574 - val_loss: 0.1244 - val_accuracy: 0.9545 - val_precision_1: 0.9535 - val_recall_1: 0.9557\n",
      "Epoch 28/60\n",
      "22500/22500 [==============================] - ETA: 0s - loss: 0.1165 - accuracy: 0.9582 - precision_1: 0.9587 - recall_1: 0.9576"
     ]
    },
    {
     "name": "stderr",
     "output_type": "stream",
     "text": [
      "WARNING:absl:Found untraced functions such as lstm_cell_4_layer_call_fn, lstm_cell_4_layer_call_and_return_conditional_losses, lstm_cell_5_layer_call_fn, lstm_cell_5_layer_call_and_return_conditional_losses, gru_cell_4_layer_call_fn while saving (showing 5 of 8). These functions will not be directly callable after loading.\n"
     ]
    },
    {
     "name": "stdout",
     "output_type": "stream",
     "text": [
      "INFO:tensorflow:Assets written to: Model4-3mdata_fbest_model\\assets\n"
     ]
    },
    {
     "name": "stderr",
     "output_type": "stream",
     "text": [
      "INFO:tensorflow:Assets written to: Model4-3mdata_fbest_model\\assets\n"
     ]
    },
    {
     "name": "stdout",
     "output_type": "stream",
     "text": [
      "22500/22500 [==============================] - 2508s 111ms/step - loss: 0.1165 - accuracy: 0.9582 - precision_1: 0.9587 - recall_1: 0.9576 - val_loss: 0.1234 - val_accuracy: 0.9548 - val_precision_1: 0.9591 - val_recall_1: 0.9503\n",
      "Epoch 29/60\n",
      "22500/22500 [==============================] - ETA: 0s - loss: 0.1160 - accuracy: 0.9584 - precision_1: 0.9590 - recall_1: 0.9578"
     ]
    },
    {
     "name": "stderr",
     "output_type": "stream",
     "text": [
      "WARNING:absl:Found untraced functions such as lstm_cell_4_layer_call_fn, lstm_cell_4_layer_call_and_return_conditional_losses, lstm_cell_5_layer_call_fn, lstm_cell_5_layer_call_and_return_conditional_losses, gru_cell_4_layer_call_fn while saving (showing 5 of 8). These functions will not be directly callable after loading.\n"
     ]
    },
    {
     "name": "stdout",
     "output_type": "stream",
     "text": [
      "INFO:tensorflow:Assets written to: Model4-3mdata_fbest_model\\assets\n"
     ]
    },
    {
     "name": "stderr",
     "output_type": "stream",
     "text": [
      "INFO:tensorflow:Assets written to: Model4-3mdata_fbest_model\\assets\n"
     ]
    },
    {
     "name": "stdout",
     "output_type": "stream",
     "text": [
      "22500/22500 [==============================] - 2494s 111ms/step - loss: 0.1160 - accuracy: 0.9584 - precision_1: 0.9590 - recall_1: 0.9578 - val_loss: 0.1232 - val_accuracy: 0.9550 - val_precision_1: 0.9565 - val_recall_1: 0.9533\n",
      "Epoch 30/60\n",
      "22500/22500 [==============================] - 2460s 109ms/step - loss: 0.1153 - accuracy: 0.9587 - precision_1: 0.9592 - recall_1: 0.9582 - val_loss: 0.1235 - val_accuracy: 0.9548 - val_precision_1: 0.9509 - val_recall_1: 0.9592\n",
      "Epoch 31/60\n",
      "22500/22500 [==============================] - 2457s 109ms/step - loss: 0.1147 - accuracy: 0.9589 - precision_1: 0.9596 - recall_1: 0.9582 - val_loss: 0.1235 - val_accuracy: 0.9548 - val_precision_1: 0.9496 - val_recall_1: 0.9605\n",
      "Epoch 32/60\n",
      "22500/22500 [==============================] - ETA: 0s - loss: 0.1141 - accuracy: 0.9593 - precision_1: 0.9598 - recall_1: 0.9587"
     ]
    },
    {
     "name": "stderr",
     "output_type": "stream",
     "text": [
      "WARNING:absl:Found untraced functions such as lstm_cell_4_layer_call_fn, lstm_cell_4_layer_call_and_return_conditional_losses, lstm_cell_5_layer_call_fn, lstm_cell_5_layer_call_and_return_conditional_losses, gru_cell_4_layer_call_fn while saving (showing 5 of 8). These functions will not be directly callable after loading.\n"
     ]
    },
    {
     "name": "stdout",
     "output_type": "stream",
     "text": [
      "INFO:tensorflow:Assets written to: Model4-3mdata_fbest_model\\assets\n"
     ]
    },
    {
     "name": "stderr",
     "output_type": "stream",
     "text": [
      "INFO:tensorflow:Assets written to: Model4-3mdata_fbest_model\\assets\n"
     ]
    },
    {
     "name": "stdout",
     "output_type": "stream",
     "text": [
      "22500/22500 [==============================] - 2503s 111ms/step - loss: 0.1141 - accuracy: 0.9593 - precision_1: 0.9598 - recall_1: 0.9587 - val_loss: 0.1226 - val_accuracy: 0.9554 - val_precision_1: 0.9532 - val_recall_1: 0.9578\n",
      "Epoch 33/60\n",
      "22500/22500 [==============================] - 2442s 109ms/step - loss: 0.1135 - accuracy: 0.9595 - precision_1: 0.9601 - recall_1: 0.9588 - val_loss: 0.1229 - val_accuracy: 0.9554 - val_precision_1: 0.9532 - val_recall_1: 0.9579\n",
      "Epoch 34/60\n",
      "22500/22500 [==============================] - ETA: 0s - loss: 0.1129 - accuracy: 0.9598 - precision_1: 0.9602 - recall_1: 0.9593"
     ]
    },
    {
     "name": "stderr",
     "output_type": "stream",
     "text": [
      "WARNING:absl:Found untraced functions such as lstm_cell_4_layer_call_fn, lstm_cell_4_layer_call_and_return_conditional_losses, lstm_cell_5_layer_call_fn, lstm_cell_5_layer_call_and_return_conditional_losses, gru_cell_4_layer_call_fn while saving (showing 5 of 8). These functions will not be directly callable after loading.\n"
     ]
    },
    {
     "name": "stdout",
     "output_type": "stream",
     "text": [
      "INFO:tensorflow:Assets written to: Model4-3mdata_fbest_model\\assets\n"
     ]
    },
    {
     "name": "stderr",
     "output_type": "stream",
     "text": [
      "INFO:tensorflow:Assets written to: Model4-3mdata_fbest_model\\assets\n"
     ]
    },
    {
     "name": "stdout",
     "output_type": "stream",
     "text": [
      "22500/22500 [==============================] - 2464s 110ms/step - loss: 0.1129 - accuracy: 0.9598 - precision_1: 0.9602 - recall_1: 0.9593 - val_loss: 0.1222 - val_accuracy: 0.9556 - val_precision_1: 0.9553 - val_recall_1: 0.9559\n",
      "Epoch 35/60\n",
      "22500/22500 [==============================] - ETA: 0s - loss: 0.1124 - accuracy: 0.9599 - precision_1: 0.9604 - recall_1: 0.9594"
     ]
    },
    {
     "name": "stderr",
     "output_type": "stream",
     "text": [
      "WARNING:absl:Found untraced functions such as lstm_cell_4_layer_call_fn, lstm_cell_4_layer_call_and_return_conditional_losses, lstm_cell_5_layer_call_fn, lstm_cell_5_layer_call_and_return_conditional_losses, gru_cell_4_layer_call_fn while saving (showing 5 of 8). These functions will not be directly callable after loading.\n"
     ]
    },
    {
     "name": "stdout",
     "output_type": "stream",
     "text": [
      "INFO:tensorflow:Assets written to: Model4-3mdata_fbest_model\\assets\n"
     ]
    },
    {
     "name": "stderr",
     "output_type": "stream",
     "text": [
      "INFO:tensorflow:Assets written to: Model4-3mdata_fbest_model\\assets\n"
     ]
    },
    {
     "name": "stdout",
     "output_type": "stream",
     "text": [
      "22500/22500 [==============================] - 2443s 109ms/step - loss: 0.1124 - accuracy: 0.9599 - precision_1: 0.9604 - recall_1: 0.9594 - val_loss: 0.1220 - val_accuracy: 0.9558 - val_precision_1: 0.9575 - val_recall_1: 0.9540\n",
      "Epoch 36/60\n",
      "22500/22500 [==============================] - 2391s 106ms/step - loss: 0.1118 - accuracy: 0.9601 - precision_1: 0.9605 - recall_1: 0.9597 - val_loss: 0.1238 - val_accuracy: 0.9550 - val_precision_1: 0.9479 - val_recall_1: 0.9631\n",
      "Epoch 37/60\n",
      "22500/22500 [==============================] - 2415s 107ms/step - loss: 0.1114 - accuracy: 0.9604 - precision_1: 0.9607 - recall_1: 0.9600 - val_loss: 0.1253 - val_accuracy: 0.9550 - val_precision_1: 0.9644 - val_recall_1: 0.9450\n",
      "Epoch 38/60\n",
      "13718/22500 [=================>............] - ETA: 14:22 - loss: 0.1105 - accuracy: 0.9607 - precision_1: 0.9611 - recall_1: 0.9602"
     ]
    }
   ],
   "source": [
    "optimizer = RMSprop(learning_rate=0.000025)\n",
    "model.compile(optimizer=optimizer, loss='binary_crossentropy', metrics=['accuracy', tf.keras.metrics.Precision(), tf.keras.metrics.Recall()])\n",
    "\n",
    "early_stopping = EarlyStopping(monitor='val_loss', patience=3, restore_best_weights=True)\n",
    "model_checkpoint = ModelCheckpoint('Hybrid_fbest_model', monitor='val_loss', save_best_only=True)\n",
    "\n",
    "history = model.fit(X_train, y_train, epochs=60, batch_size=128, \n",
    "                    validation_data=(X_val, y_val),\n",
    "                    callbacks=[early_stopping, model_checkpoint], verbose=1)\n",
    "\n",
    "plt.plot(history.history['loss'], label='Training Loss')\n",
    "plt.plot(history.history['val_loss'], label='Validation Loss')\n",
    "plt.xlabel('Epoch')\n",
    "plt.ylabel('Loss')\n",
    "plt.legend()\n",
    "plt.savefig('Hybrid_loss_curve.png')\n",
    "plt.show()"
   ]
  },
  {
   "cell_type": "markdown",
   "id": "69d9068c",
   "metadata": {},
   "source": [
    "# Model Evaluation with Metrics"
   ]
  },
  {
   "cell_type": "code",
   "execution_count": 17,
   "id": "838a8b2a-94b0-44b4-9b78-c6f334e4a8a7",
   "metadata": {},
   "outputs": [
    {
     "name": "stdout",
     "output_type": "stream",
     "text": [
      "22500/22500 [==============================] - 909s 40ms/step\n",
      "Validation Accuracy: 0.9561\n",
      "Precision: 0.9560\n",
      "Recall: 0.9563\n",
      "F1 Score: 0.9562\n",
      "Sensitivity: 0.9563\n"
     ]
    },
    {
     "data": {
      "image/png": "[encoded data removed]",
      "text/plain": [
       "<Figure size 1200x500 with 3 Axes>"
      ]
     },
     "metadata": {},
     "output_type": "display_data"
    }
   ],
   "source": [
    "#Evaluation\n",
    "val_predictions = model.predict(X_val)\n",
    "val_predictions_prob_positive = val_predictions[:, 0]  \n",
    "val_predictions_binary = np.where(val_predictions_prob_positive > 0.5, 1, 0)\n",
    "\n",
    "conf_matrix_val = confusion_matrix(y_val, val_predictions_binary)\n",
    "fpr_val, tpr_val, _ = roc_curve(y_val, val_predictions_prob_positive)\n",
    "roc_auc_val = auc(fpr_val, tpr_val)\n",
    "\n",
    "precision_val, recall_val, _ = precision_recall_curve(y_val, val_predictions_prob_positive)\n",
    "pr_auc_val = average_precision_score(y_val, val_predictions_prob_positive)\n",
    "\n",
    "accuracy_val = accuracy_score(y_val, val_predictions_binary)\n",
    "precision_val = precision_score(y_val, val_predictions_binary)\n",
    "recall_val = recall_score(y_val, val_predictions_binary)\n",
    "f1_val = f1_score(y_val, val_predictions_binary)\n",
    "\n",
    "sensitivity_val = recall_val\n",
    "\n",
    "print(f'Validation Accuracy: {accuracy_val:.4f}')\n",
    "print(f'Precision: {precision_val:.4f}')\n",
    "print(f'Recall: {recall_val:.4f}')\n",
    "print(f'F1 Score: {f1_val:.4f}')\n",
    "print(f'Sensitivity: {sensitivity_val:.4f}')\n",
    "\n",
    "lt.figure(figsize=(12, 5))\n",
    "\n",
    "classes = ['0', '1']  \n",
    "plt.subplot(1, 2, 1)\n",
    "plt.imshow(conf_matrix_val, interpolation='nearest', cmap=plt.cm.Blues)\n",
    "plt.title('Validation Confusion Matrix')\n",
    "plt.colorbar()\n",
    "plt.xlabel('Predicted label')\n",
    "plt.ylabel('True label')\n",
    "plt.xticks(np.arange(len(classes)), classes, rotation=45)  # Adjust rotation as needed\n",
    "plt.yticks(np.arange(len(classes)), classes)\n",
    "for i in range(len(classes)):\n",
    "    for j in range(len(classes)):\n",
    "        plt.text(j, i, format(conf_matrix_val[i, j], 'd'),\n",
    "                 horizontalalignment=\"center\",\n",
    "                 color=\"white\" if conf_matrix_val[i, j] > conf_matrix_val.max() / 2 else \"black\")\n",
    "\n",
    "plt.subplot(1, 2, 2)\n",
    "plt.plot(fpr_val, tpr_val, color='darkorange', lw=2, label=f'ROC curve (AUC = {roc_auc_val:.2f})')\n",
    "plt.plot([0, 1], [0, 1], color='navy', lw=2, linestyle='--')\n",
    "plt.xlim([0.0, 1.0])\n",
    "plt.ylim([0.0, 1.05])\n",
    "plt.xlabel('False Positive Rate')\n",
    "plt.ylabel('True Positive Rate')\n",
    "plt.title('Validation Receiver Operating Characteristic')\n",
    "plt.legend(loc='lower right')\n",
    "plt.tight_layout()\n",
    "plt.savefig('Hbrid_validation_metrics.png')\n",
    "plt.show()\n"
   ]
  },
  {
   "cell_type": "code",
   "execution_count": 18,
   "id": "2f18df27-18d3-4212-afcf-7e6fe0b09a32",
   "metadata": {},
   "outputs": [
    {
     "data": {
      "image/png": "[encoded data removed]",
      "text/plain": [
       "<Figure size 640x480 with 1 Axes>"
      ]
     },
     "metadata": {},
     "output_type": "display_data"
    }
   ],
   "source": [
    "# Plot accuracy curves\n",
    "plt.plot(history.history['accuracy'], label='Training Accuracy')\n",
    "plt.plot(history.history['val_accuracy'], label='Validation Accuracy')\n",
    "plt.xlabel('Epoch')\n",
    "plt.ylabel('Accuracy')\n",
    "plt.legend()\n",
    "plt.savefig('Model4-3mdata_accuracy_curve.png')\n",
    "plt.show()"
   ]
  },
  {
   "cell_type": "code",
   "execution_count": 21,
   "id": "66bdd673-5314-4630-a9da-0bf1b80e88d4",
   "metadata": {},
   "outputs": [
    {
     "name": "stdout",
     "output_type": "stream",
     "text": [
      "12500/12500 [==============================] - 554s 44ms/step\n",
      "Test Accuracy: 0.9559\n",
      "Precision: 0.9558\n",
      "Recall: 0.9561\n",
      "F1 Score: 0.9559\n",
      "Sensitivity: 0.9561\n",
      "ROC AUC: 0.9899\n",
      "Precision-Recall AUC: 0.9888\n"
     ]
    },
    {
     "data": {
      "image/png": "[encoded data removed]",
      "text/plain": [
       "<Figure size 1200x500 with 3 Axes>"
      ]
     },
     "metadata": {},
     "output_type": "display_data"
    }
   ],
   "source": [
    "#Confusion Matrix and ROC\n",
    "test_predictions = model.predict(test_texts)\n",
    "test_predictions_prob_positive = test_predictions[:, 0]  # Assuming the positive class is index 0\n",
    "test_predictions_binary = np.where(test_predictions_prob_positive > 0.5, 1, 0)\n",
    "conf_matrix_test = confusion_matrix(test_labels, test_predictions_binary)\n",
    "fpr_test, tpr_test, _ = roc_curve(test_labels, test_predictions_prob_positive)\n",
    "roc_auc_test = auc(fpr_test, tpr_test)\n",
    "\n",
    "precision_test, recall_test, _ = precision_recall_curve(test_labels, test_predictions_prob_positive)\n",
    "pr_auc_test = average_precision_score(test_labels, test_predictions_prob_positive)\n",
    "\n",
    "accuracy_test = accuracy_score(test_labels, test_predictions_binary)\n",
    "precision_test = precision_score(test_labels, test_predictions_binary)\n",
    "recall_test = recall_score(test_labels, test_predictions_binary)\n",
    "f1_test = f1_score(test_labels, test_predictions_binary)\n",
    "sensitivity_test = recall_test\n",
    "\n",
    "print(f'Test Accuracy: {accuracy_test:.4f}')\n",
    "print(f'Precision: {precision_test:.4f}')\n",
    "print(f'Recall: {recall_test:.4f}')\n",
    "print(f'F1 Score: {f1_test:.4f}')\n",
    "print(f'Sensitivity: {sensitivity_test:.4f}')\n",
    "print(f'ROC AUC: {roc_auc_test:.4f}')\n",
    "print(f'Precision-Recall AUC: {pr_auc_test:.4f}')\n",
    "\n",
    "plt.figure(figsize=(12, 5))\n",
    "classes = ['0', '1']  # Replace with your actual class labels\n",
    "plt.subplot(1, 2, 1)\n",
    "plt.imshow(conf_matrix_test, interpolation='nearest', cmap=plt.cm.Blues)\n",
    "plt.title('Test Confusion Matrix')\n",
    "plt.colorbar()\n",
    "plt.xlabel('Predicted label')\n",
    "plt.ylabel('True label')\n",
    "plt.xticks(np.arange(len(classes)), classes, rotation=45)  # Adjust rotation as needed\n",
    "plt.yticks(np.arange(len(classes)), classes)\n",
    "for i in range(len(classes)):\n",
    "    for j in range(len(classes)):\n",
    "        plt.text(j, i, format(conf_matrix_test[i, j], 'd'),\n",
    "                 horizontalalignment=\"center\",\n",
    "                 color=\"white\" if conf_matrix_test[i, j] > conf_matrix_test.max() / 2 else \"black\")\n",
    "\n",
    "plt.subplot(1, 2, 2)\n",
    "plt.plot(fpr_test, tpr_test, color='darkorange', lw=2, label=f'ROC curve (AUC = {roc_auc_test:.2f})')\n",
    "plt.plot([0, 1], [0, 1], color='navy', lw=2, linestyle='--')\n",
    "plt.xlim([0.0, 1.0])\n",
    "plt.ylim([0.0, 1.05])\n",
    "plt.xlabel('False Positive Rate')\n",
    "plt.ylabel('True Positive Rate')\n",
    "plt.title('Test Receiver Operating Characteristic')\n",
    "plt.legend(loc='lower right')\n",
    "plt.tight_layout()\n",
    "plt.savefig('Hybrid_metrics.png')\n",
    "plt.show()"
   ]
  }
 ],
 "metadata": {
  "kernelspec": {
   "display_name": "Python 3 (ipykernel)",
   "language": "python",
   "name": "python3"
  },
  "language_info": {
   "codemirror_mode": {
    "name": "ipython",
    "version": 3
   },
   "file_extension": ".py",
   "mimetype": "text/x-python",
   "name": "python",
   "nbconvert_exporter": "python",
   "pygments_lexer": "ipython3",
   "version": "3.9.19"
  }
 },
 "nbformat": 4,
 "nbformat_minor": 5
}
